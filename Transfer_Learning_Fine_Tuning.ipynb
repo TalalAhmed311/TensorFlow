{
  "nbformat": 4,
  "nbformat_minor": 0,
  "metadata": {
    "colab": {
      "name": "Transfer Learning Fine Tuning.ipynb",
      "provenance": []
    },
    "kernelspec": {
      "name": "python3",
      "display_name": "Python 3"
    },
    "language_info": {
      "name": "python"
    },
    "accelerator": "GPU",
    "gpuClass": "standard"
  },
  "cells": [
    {
      "cell_type": "markdown",
      "source": [
        "###Fine Tuning:\n",
        "In fine tuning learning we change the classification layer of our neural network.\n",
        "\n",
        "One more thing is when are using fine tuning we need more data for feature extraction.\n"
      ],
      "metadata": {
        "id": "_Oo-A10SHidg"
      }
    },
    {
      "cell_type": "code",
      "source": [
        "import matplotlib.pyplot as plt\n",
        "import tensorflow as tf\n",
        "import pandas as pd\n",
        "import numpy as np"
      ],
      "metadata": {
        "id": "5LMJp5hHI9jc"
      },
      "execution_count": 1,
      "outputs": []
    },
    {
      "cell_type": "code",
      "execution_count": 2,
      "metadata": {
        "id": "XoB5YuxVG291"
      },
      "outputs": [],
      "source": [
        "# Helping function\n",
        "\n",
        "# Plot the validation and training data separately\n",
        "def plot_loss(history):\n",
        "  \"\"\"\n",
        "  Returns separate loss curves for training and validation metrics.\n",
        "  \"\"\" \n",
        "  loss = history.history['loss']\n",
        "  val_loss = history.history['val_loss']\n",
        "\n",
        "  accuracy = history.history['accuracy']\n",
        "  val_accuracy = history.history['val_accuracy']\n",
        "\n",
        "  epochs = range(len(history.history['loss']))\n",
        "\n",
        "  # Plot loss\n",
        "  plt.plot(epochs, loss, label='training_loss')\n",
        "  plt.plot(epochs, val_loss, label='val_loss')\n",
        "  plt.title('Loss')\n",
        "  plt.xlabel('Epochs')\n",
        "  plt.legend()\n",
        "\n",
        "  # Plot accuracy\n",
        "  plt.figure()\n",
        "  plt.plot(epochs, accuracy, label='training_accuracy')\n",
        "  plt.plot(epochs, val_accuracy, label='val_accuracy')\n",
        "  plt.title('Accuracy')\n",
        "  plt.xlabel('Epochs')\n",
        "  plt.legend();"
      ]
    },
    {
      "cell_type": "code",
      "source": [
        "import zipfile\n",
        "# Get 10% of the data of the 10 classes\n",
        "!wget https://storage.googleapis.com/ztm_tf_course/food_vision/10_food_classes_10_percent.zip \n",
        "\n",
        "zip_ref = zipfile.ZipFile(\"10_food_classes_10_percent.zip\", \"r\")\n",
        "zip_ref.extractall()\n",
        "zip_ref.close()"
      ],
      "metadata": {
        "colab": {
          "base_uri": "https://localhost:8080/"
        },
        "id": "k-1FOAU1I4f8",
        "outputId": "e5814d27-1383-4ccb-ec8e-4471f0ea5844"
      },
      "execution_count": 3,
      "outputs": [
        {
          "output_type": "stream",
          "name": "stdout",
          "text": [
            "--2022-07-11 17:13:36--  https://storage.googleapis.com/ztm_tf_course/food_vision/10_food_classes_10_percent.zip\n",
            "Resolving storage.googleapis.com (storage.googleapis.com)... 74.125.200.128, 74.125.68.128, 142.251.12.128, ...\n",
            "Connecting to storage.googleapis.com (storage.googleapis.com)|74.125.200.128|:443... connected.\n",
            "HTTP request sent, awaiting response... 200 OK\n",
            "Length: 168546183 (161M) [application/zip]\n",
            "Saving to: ‘10_food_classes_10_percent.zip’\n",
            "\n",
            "10_food_classes_10_ 100%[===================>] 160.74M  57.7MB/s    in 2.8s    \n",
            "\n",
            "2022-07-11 17:13:39 (57.7 MB/s) - ‘10_food_classes_10_percent.zip’ saved [168546183/168546183]\n",
            "\n"
          ]
        }
      ]
    },
    {
      "cell_type": "code",
      "source": [
        "# How many images in each folder?\n",
        "import os\n",
        "\n",
        "# Walk through 10 percent data directory and list number of files\n",
        "for dirpath, dirnames, filenames in os.walk(\"10_food_classes_10_percent\"):\n",
        "  print(f\"There are {len(dirnames)} directories and {len(filenames)} images in '{dirpath}'.\")"
      ],
      "metadata": {
        "id": "vngjvk8JJQv7",
        "colab": {
          "base_uri": "https://localhost:8080/"
        },
        "outputId": "ffafa916-aa92-4b56-a322-4fb9cb93053b"
      },
      "execution_count": 4,
      "outputs": [
        {
          "output_type": "stream",
          "name": "stdout",
          "text": [
            "There are 2 directories and 0 images in '10_food_classes_10_percent'.\n",
            "There are 10 directories and 0 images in '10_food_classes_10_percent/train'.\n",
            "There are 0 directories and 75 images in '10_food_classes_10_percent/train/pizza'.\n",
            "There are 0 directories and 75 images in '10_food_classes_10_percent/train/steak'.\n",
            "There are 0 directories and 75 images in '10_food_classes_10_percent/train/grilled_salmon'.\n",
            "There are 0 directories and 75 images in '10_food_classes_10_percent/train/hamburger'.\n",
            "There are 0 directories and 75 images in '10_food_classes_10_percent/train/chicken_curry'.\n",
            "There are 0 directories and 75 images in '10_food_classes_10_percent/train/chicken_wings'.\n",
            "There are 0 directories and 75 images in '10_food_classes_10_percent/train/fried_rice'.\n",
            "There are 0 directories and 75 images in '10_food_classes_10_percent/train/ice_cream'.\n",
            "There are 0 directories and 75 images in '10_food_classes_10_percent/train/ramen'.\n",
            "There are 0 directories and 75 images in '10_food_classes_10_percent/train/sushi'.\n",
            "There are 10 directories and 0 images in '10_food_classes_10_percent/test'.\n",
            "There are 0 directories and 250 images in '10_food_classes_10_percent/test/pizza'.\n",
            "There are 0 directories and 250 images in '10_food_classes_10_percent/test/steak'.\n",
            "There are 0 directories and 250 images in '10_food_classes_10_percent/test/grilled_salmon'.\n",
            "There are 0 directories and 250 images in '10_food_classes_10_percent/test/hamburger'.\n",
            "There are 0 directories and 250 images in '10_food_classes_10_percent/test/chicken_curry'.\n",
            "There are 0 directories and 250 images in '10_food_classes_10_percent/test/chicken_wings'.\n",
            "There are 0 directories and 250 images in '10_food_classes_10_percent/test/fried_rice'.\n",
            "There are 0 directories and 250 images in '10_food_classes_10_percent/test/ice_cream'.\n",
            "There are 0 directories and 250 images in '10_food_classes_10_percent/test/ramen'.\n",
            "There are 0 directories and 250 images in '10_food_classes_10_percent/test/sushi'.\n"
          ]
        }
      ]
    },
    {
      "cell_type": "markdown",
      "source": [
        "Create an ImageGenerator"
      ],
      "metadata": {
        "id": "O8SI6OfnKkQU"
      }
    },
    {
      "cell_type": "code",
      "source": [
        "from tensorflow.keras.preprocessing.image import ImageDataGenerator\n",
        "\n",
        "datagen = ImageDataGenerator(\n",
        "    rotation_range=10,  # randomly rotate images in the range (degrees, 0 to 180)\n",
        "    zoom_range=0.1,  # Randomly zoom image\n",
        "    width_shift_range=0.1,  # randomly shift images horizontally (fraction of total width)\n",
        "    height_shift_range=0.1,  # randomly shift images vertically (fraction of total height)\n",
        "    horizontal_flip=True,  # randomly flip images horizontally\n",
        "    vertical_flip=False, # Don't randomly flip images vertically\n",
        ")  "
      ],
      "metadata": {
        "id": "eEFfbO0rKeod"
      },
      "execution_count": 5,
      "outputs": []
    },
    {
      "cell_type": "code",
      "source": [
        "# Create training and test directories\n",
        "train_dir = \"10_food_classes_10_percent/train/\"\n",
        "test_dir = \"10_food_classes_10_percent/test/\""
      ],
      "metadata": {
        "id": "IsWmggRFKnDN"
      },
      "execution_count": 6,
      "outputs": []
    },
    {
      "cell_type": "code",
      "source": [
        "print('Training Images')\n",
        "train_data = datagen.flow_from_directory(\n",
        "    directory = train_dir,\n",
        "    target_size=(224,224),\n",
        "    color_mode ='rgb',\n",
        "    class_mode = 'categorical',\n",
        "    batch_size=32\n",
        ")\n",
        "\n",
        "\n",
        "print('Test Images')\n",
        "test_data =datagen.flow_from_directory(\n",
        "    directory = test_dir,\n",
        "    target_size=(224,224),\n",
        "    color_mode ='rgb',\n",
        "    class_mode = 'categorical',\n",
        "    batch_size=32\n",
        ")\n"
      ],
      "metadata": {
        "colab": {
          "base_uri": "https://localhost:8080/"
        },
        "id": "hOScQCa4KtPp",
        "outputId": "2fcd8b6e-def2-4dc4-d45f-ec47fa44c070"
      },
      "execution_count": 7,
      "outputs": [
        {
          "output_type": "stream",
          "name": "stdout",
          "text": [
            "Training Images\n",
            "Found 750 images belonging to 10 classes.\n",
            "Test Images\n",
            "Found 2500 images belonging to 10 classes.\n"
          ]
        }
      ]
    },
    {
      "cell_type": "code",
      "source": [
        "train_images, train_labels = next(train_data)"
      ],
      "metadata": {
        "id": "HotdJ0HXLx4l"
      },
      "execution_count": 11,
      "outputs": []
    },
    {
      "cell_type": "code",
      "source": [
        "train_labels"
      ],
      "metadata": {
        "colab": {
          "base_uri": "https://localhost:8080/"
        },
        "id": "zr4Uibg9MWD3",
        "outputId": "6e637d40-cc71-45e1-94e2-435af5996b34"
      },
      "execution_count": 12,
      "outputs": [
        {
          "output_type": "execute_result",
          "data": {
            "text/plain": [
              "array([[0., 0., 0., 0., 1., 0., 0., 0., 0., 0.],\n",
              "       [0., 0., 0., 1., 0., 0., 0., 0., 0., 0.],\n",
              "       [0., 0., 0., 0., 1., 0., 0., 0., 0., 0.],\n",
              "       [0., 0., 0., 0., 0., 0., 0., 0., 1., 0.],\n",
              "       [1., 0., 0., 0., 0., 0., 0., 0., 0., 0.],\n",
              "       [0., 0., 0., 0., 0., 0., 0., 0., 1., 0.],\n",
              "       [0., 0., 0., 0., 0., 1., 0., 0., 0., 0.],\n",
              "       [1., 0., 0., 0., 0., 0., 0., 0., 0., 0.],\n",
              "       [0., 0., 1., 0., 0., 0., 0., 0., 0., 0.],\n",
              "       [0., 0., 1., 0., 0., 0., 0., 0., 0., 0.],\n",
              "       [0., 0., 0., 1., 0., 0., 0., 0., 0., 0.],\n",
              "       [0., 0., 0., 0., 0., 0., 1., 0., 0., 0.],\n",
              "       [0., 0., 0., 0., 0., 0., 0., 0., 1., 0.],\n",
              "       [0., 0., 0., 0., 0., 0., 0., 0., 0., 1.],\n",
              "       [0., 0., 0., 0., 0., 0., 0., 0., 0., 1.],\n",
              "       [0., 0., 0., 1., 0., 0., 0., 0., 0., 0.],\n",
              "       [0., 0., 0., 0., 0., 0., 0., 0., 0., 1.],\n",
              "       [0., 0., 0., 0., 0., 0., 1., 0., 0., 0.],\n",
              "       [0., 0., 0., 1., 0., 0., 0., 0., 0., 0.],\n",
              "       [0., 0., 0., 0., 0., 0., 0., 0., 1., 0.],\n",
              "       [0., 1., 0., 0., 0., 0., 0., 0., 0., 0.],\n",
              "       [0., 0., 0., 0., 1., 0., 0., 0., 0., 0.],\n",
              "       [0., 0., 0., 1., 0., 0., 0., 0., 0., 0.],\n",
              "       [0., 0., 0., 0., 0., 1., 0., 0., 0., 0.],\n",
              "       [0., 0., 0., 1., 0., 0., 0., 0., 0., 0.],\n",
              "       [0., 0., 0., 0., 0., 0., 0., 1., 0., 0.],\n",
              "       [0., 0., 0., 0., 0., 1., 0., 0., 0., 0.],\n",
              "       [0., 0., 0., 0., 0., 1., 0., 0., 0., 0.],\n",
              "       [0., 0., 0., 0., 0., 1., 0., 0., 0., 0.],\n",
              "       [0., 1., 0., 0., 0., 0., 0., 0., 0., 0.],\n",
              "       [0., 0., 0., 0., 0., 0., 0., 0., 0., 1.],\n",
              "       [0., 0., 0., 0., 0., 0., 0., 0., 1., 0.]], dtype=float32)"
            ]
          },
          "metadata": {},
          "execution_count": 12
        }
      ]
    },
    {
      "cell_type": "markdown",
      "source": [
        "## Model 1"
      ],
      "metadata": {
        "id": "H0Rvmf-GM2xV"
      }
    },
    {
      "cell_type": "markdown",
      "source": [
        "We use Mobile Net to build model"
      ],
      "metadata": {
        "id": "4mO5Or6wNJr1"
      }
    },
    {
      "cell_type": "code",
      "source": [
        "from tensorflow.keras.applications import MobileNet"
      ],
      "metadata": {
        "id": "-iAFQZXDMYPR"
      },
      "execution_count": 14,
      "outputs": []
    },
    {
      "cell_type": "code",
      "source": [
        "base_model = MobileNet(include_top=False)\n",
        "\n",
        "base_model.trainable = False\n",
        "\n",
        "inputs = tf.keras.layers.Input(shape=(224,224,3))\n",
        "\n",
        "x = base_model(inputs, training=False)\n",
        "\n",
        "# Add pooling layer or flatten layer\n",
        "x = tf.keras.layers.GlobalAveragePooling2D()(x)\n",
        "\n",
        "# Add final dense layer\n",
        "outputs = tf.keras.layers.Dense(10, activation = 'softmax')(x)\n",
        "\n",
        "# Combine inputs and outputs to create model\n",
        "model_1 = tf.keras.Model(inputs,outputs)\n",
        "\n",
        "#Compile Model \n",
        "model_1.compile(optimizer=tf.optimizers.Adam(),loss=tf.losses.CategoricalCrossentropy(),metrics=['accuracy'])"
      ],
      "metadata": {
        "colab": {
          "base_uri": "https://localhost:8080/"
        },
        "id": "gmEf3DWHMej4",
        "outputId": "c56c00f6-8cac-4258-a98b-082a27b9fdb9"
      },
      "execution_count": 22,
      "outputs": [
        {
          "output_type": "stream",
          "name": "stdout",
          "text": [
            "WARNING:tensorflow:`input_shape` is undefined or non-square, or `rows` is not in [128, 160, 192, 224]. Weights for input shape (224, 224) will be loaded as the default.\n"
          ]
        }
      ]
    },
    {
      "cell_type": "code",
      "source": [
        "# Model Summary\n",
        "\n",
        "model_1.summary()"
      ],
      "metadata": {
        "colab": {
          "base_uri": "https://localhost:8080/"
        },
        "id": "LJ732r59Oyxu",
        "outputId": "6366505d-073f-4fdf-b9f5-ee4b62e0e309"
      },
      "execution_count": 24,
      "outputs": [
        {
          "output_type": "stream",
          "name": "stdout",
          "text": [
            "Model: \"model_4\"\n",
            "_________________________________________________________________\n",
            " Layer (type)                Output Shape              Param #   \n",
            "=================================================================\n",
            " input_11 (InputLayer)       [(None, 224, 224, 3)]     0         \n",
            "                                                                 \n",
            " mobilenet_1.00_224 (Functio  (None, None, None, 1024)  3228864  \n",
            " nal)                                                            \n",
            "                                                                 \n",
            " global_average_pooling2d_4   (None, 1024)             0         \n",
            " (GlobalAveragePooling2D)                                        \n",
            "                                                                 \n",
            " dense_4 (Dense)             (None, 10)                10250     \n",
            "                                                                 \n",
            "=================================================================\n",
            "Total params: 3,239,114\n",
            "Trainable params: 10,250\n",
            "Non-trainable params: 3,228,864\n",
            "_________________________________________________________________\n"
          ]
        }
      ]
    },
    {
      "cell_type": "markdown",
      "source": [
        "You can check the model layers thorugh loop over the model"
      ],
      "metadata": {
        "id": "96D5U7FLO3fu"
      }
    },
    {
      "cell_type": "code",
      "source": [
        "for layer_num, layer_name in enumerate(model_1.layers):\n",
        "  print(layer_num, layer_name)"
      ],
      "metadata": {
        "colab": {
          "base_uri": "https://localhost:8080/"
        },
        "id": "joowWLozO2yk",
        "outputId": "55800fd4-29a2-4664-944b-85de5d14dc21"
      },
      "execution_count": 25,
      "outputs": [
        {
          "output_type": "stream",
          "name": "stdout",
          "text": [
            "0 <keras.engine.input_layer.InputLayer object at 0x7f15757171d0>\n",
            "1 <keras.engine.functional.Functional object at 0x7f15756b64d0>\n",
            "2 <keras.layers.pooling.GlobalAveragePooling2D object at 0x7f1575882090>\n",
            "3 <keras.layers.core.dense.Dense object at 0x7f15756d0810>\n"
          ]
        }
      ]
    },
    {
      "cell_type": "code",
      "source": [
        "hist_1 = model_1.fit(train_data,epochs=10,validation_data=test_data)"
      ],
      "metadata": {
        "colab": {
          "base_uri": "https://localhost:8080/"
        },
        "id": "8OLqlijgN2Jf",
        "outputId": "c8513621-87cc-432f-faf6-5740323f7c8e"
      },
      "execution_count": 23,
      "outputs": [
        {
          "output_type": "stream",
          "name": "stdout",
          "text": [
            "Epoch 1/10\n",
            "24/24 [==============================] - 56s 2s/step - loss: 2.5337 - accuracy: 0.1200 - val_loss: 2.3139 - val_accuracy: 0.1468\n",
            "Epoch 2/10\n",
            "24/24 [==============================] - 44s 2s/step - loss: 2.2064 - accuracy: 0.2040 - val_loss: 2.2206 - val_accuracy: 0.1876\n",
            "Epoch 3/10\n",
            "24/24 [==============================] - 44s 2s/step - loss: 2.0902 - accuracy: 0.2520 - val_loss: 2.1297 - val_accuracy: 0.2280\n",
            "Epoch 4/10\n",
            "24/24 [==============================] - 42s 2s/step - loss: 2.0027 - accuracy: 0.2840 - val_loss: 2.0778 - val_accuracy: 0.2368\n",
            "Epoch 5/10\n",
            "24/24 [==============================] - 41s 2s/step - loss: 1.9083 - accuracy: 0.3213 - val_loss: 2.0148 - val_accuracy: 0.2736\n",
            "Epoch 6/10\n",
            "24/24 [==============================] - 41s 2s/step - loss: 1.8396 - accuracy: 0.3760 - val_loss: 2.0077 - val_accuracy: 0.2752\n",
            "Epoch 7/10\n",
            "24/24 [==============================] - 41s 2s/step - loss: 1.7686 - accuracy: 0.3960 - val_loss: 2.0041 - val_accuracy: 0.2720\n",
            "Epoch 8/10\n",
            "24/24 [==============================] - 41s 2s/step - loss: 1.7268 - accuracy: 0.4093 - val_loss: 1.9901 - val_accuracy: 0.2840\n",
            "Epoch 9/10\n",
            "24/24 [==============================] - 41s 2s/step - loss: 1.6769 - accuracy: 0.4280 - val_loss: 1.9654 - val_accuracy: 0.3076\n",
            "Epoch 10/10\n",
            "24/24 [==============================] - 41s 2s/step - loss: 1.6467 - accuracy: 0.4533 - val_loss: 1.9640 - val_accuracy: 0.3004\n"
          ]
        }
      ]
    },
    {
      "cell_type": "code",
      "source": [
        "plot_loss(hist_1)"
      ],
      "metadata": {
        "colab": {
          "base_uri": "https://localhost:8080/",
          "height": 573
        },
        "id": "eTnZnYwjONJg",
        "outputId": "b8f43ba6-4cd8-43dc-f61e-6a3bb657f03f"
      },
      "execution_count": 31,
      "outputs": [
        {
          "output_type": "display_data",
          "data": {
            "text/plain": [
              "<Figure size 432x288 with 1 Axes>"
            ],
            "image/png": "[encoded data removed]"
          },
          "metadata": {
            "needs_background": "light"
          }
        },
        {
          "output_type": "display_data",
          "data": {
            "text/plain": [
              "<Figure size 432x288 with 1 Axes>"
            ],
            "image/png": "[encoded data removed]"
          },
          "metadata": {
            "needs_background": "light"
          }
        }
      ]
    },
    {
      "cell_type": "markdown",
      "source": [
        "We can do more iteration to to improve model performance or normalize the data."
      ],
      "metadata": {
        "id": "_L0rNI8DSrtN"
      }
    },
    {
      "cell_type": "code",
      "source": [
        "train_images ,train_labels = next(train_data)\n",
        "test_images, test_labels = next(test_data)"
      ],
      "metadata": {
        "id": "SxLGoNpaSeqA"
      },
      "execution_count": 36,
      "outputs": []
    },
    {
      "cell_type": "code",
      "source": [
        "train_images_norm = train_images/255\n",
        "test_images_norm = test_images/255"
      ],
      "metadata": {
        "id": "NYc--_zmT0lB"
      },
      "execution_count": 37,
      "outputs": []
    },
    {
      "cell_type": "code",
      "source": [
        ""
      ],
      "metadata": {
        "id": "5MNEc9kZUIN6"
      },
      "execution_count": null,
      "outputs": []
    },
    {
      "cell_type": "code",
      "source": [
        "base_model = MobileNet(include_top=False)\n",
        "\n",
        "base_model.trainable = False\n",
        "\n",
        "inputs = tf.keras.layers.Input(shape=(224,224,3))\n",
        "\n",
        "x = base_model(inputs, training=False)\n",
        "\n",
        "# Add pooling layer or flatten layer\n",
        "x = tf.keras.layers.GlobalAveragePooling2D()(x)\n",
        "\n",
        "# Add final dense layer\n",
        "outputs = tf.keras.layers.Dense(10, activation = 'softmax')(x)\n",
        "\n",
        "# Combine inputs and outputs to create model\n",
        "model_1 = tf.keras.Model(inputs,outputs)\n",
        "\n",
        "#Compile Model \n",
        "model_1.compile(optimizer=tf.optimizers.Adam(),loss=tf.losses.CategoricalCrossentropy(),metrics=['accuracy'])\n",
        "\n",
        "hist_2 = model_1.fit(train_images_norm,train_labels, epochs=10, validation_data=(test_images_norm,test_labels))"
      ],
      "metadata": {
        "colab": {
          "base_uri": "https://localhost:8080/"
        },
        "id": "VBBJcHR-Tdyn",
        "outputId": "46a7f6dd-8bb9-40c5-b76d-c69db321ec46"
      },
      "execution_count": 42,
      "outputs": [
        {
          "output_type": "stream",
          "name": "stdout",
          "text": [
            "WARNING:tensorflow:`input_shape` is undefined or non-square, or `rows` is not in [128, 160, 192, 224]. Weights for input shape (224, 224) will be loaded as the default.\n",
            "Epoch 1/10\n",
            "1/1 [==============================] - 4s 4s/step - loss: 3.2696 - accuracy: 0.0625 - val_loss: 3.0056 - val_accuracy: 0.0625\n",
            "Epoch 2/10\n",
            "1/1 [==============================] - 0s 144ms/step - loss: 2.7725 - accuracy: 0.0312 - val_loss: 2.8528 - val_accuracy: 0.0625\n",
            "Epoch 3/10\n",
            "1/1 [==============================] - 0s 180ms/step - loss: 2.4028 - accuracy: 0.1250 - val_loss: 2.8433 - val_accuracy: 0.0938\n",
            "Epoch 4/10\n",
            "1/1 [==============================] - 0s 153ms/step - loss: 2.1615 - accuracy: 0.1562 - val_loss: 2.9078 - val_accuracy: 0.0625\n",
            "Epoch 5/10\n",
            "1/1 [==============================] - 0s 150ms/step - loss: 1.9958 - accuracy: 0.2500 - val_loss: 2.9703 - val_accuracy: 0.0625\n",
            "Epoch 6/10\n",
            "1/1 [==============================] - 0s 179ms/step - loss: 1.8482 - accuracy: 0.3750 - val_loss: 2.9906 - val_accuracy: 0.0625\n",
            "Epoch 7/10\n",
            "1/1 [==============================] - 0s 150ms/step - loss: 1.6894 - accuracy: 0.4062 - val_loss: 2.9616 - val_accuracy: 0.0625\n",
            "Epoch 8/10\n",
            "1/1 [==============================] - 0s 167ms/step - loss: 1.5147 - accuracy: 0.4688 - val_loss: 2.8935 - val_accuracy: 0.0625\n",
            "Epoch 9/10\n",
            "1/1 [==============================] - 0s 118ms/step - loss: 1.3325 - accuracy: 0.5000 - val_loss: 2.8025 - val_accuracy: 0.0938\n",
            "Epoch 10/10\n",
            "1/1 [==============================] - 0s 120ms/step - loss: 1.1554 - accuracy: 0.6562 - val_loss: 2.7045 - val_accuracy: 0.0938\n"
          ]
        }
      ]
    },
    {
      "cell_type": "code",
      "source": [
        "plot_loss(hist_2)"
      ],
      "metadata": {
        "colab": {
          "base_uri": "https://localhost:8080/",
          "height": 573
        },
        "id": "CGGPSFEaUDMi",
        "outputId": "021a44ea-f606-40df-f722-516ad0b77a21"
      },
      "execution_count": 43,
      "outputs": [
        {
          "output_type": "display_data",
          "data": {
            "text/plain": [
              "<Figure size 432x288 with 1 Axes>"
            ],
            "image/png": "[encoded data removed]"
          },
          "metadata": {
            "needs_background": "light"
          }
        },
        {
          "output_type": "display_data",
          "data": {
            "text/plain": [
              "<Figure size 432x288 with 1 Axes>"
            ],
            "image/png": "[encoded data removed]"
          },
          "metadata": {
            "needs_background": "light"
          }
        }
      ]
    },
    {
      "cell_type": "markdown",
      "source": [
        "Model is not performing well lets try tune the layers and make them trainable means the weights will update after each iteration."
      ],
      "metadata": {
        "id": "0FwNIWa-W0GJ"
      }
    },
    {
      "cell_type": "markdown",
      "source": [
        "### Model 2"
      ],
      "metadata": {
        "id": "0iOqT1mlXDDl"
      }
    },
    {
      "cell_type": "code",
      "source": [
        "base_model = MobileNet(include_top=False)\n",
        "\n",
        "base_model.trainable = True\n",
        "\n",
        "inputs = tf.keras.layers.Input(shape=(224,224,3))\n",
        "\n",
        "x = base_model(inputs)\n",
        "\n",
        "# Add pooling layer or flatten layer\n",
        "x = tf.keras.layers.GlobalAveragePooling2D()(x)\n",
        "\n",
        "\n",
        "# Add final dense layer\n",
        "outputs = tf.keras.layers.Dense(10, activation = 'softmax')(x)\n",
        "\n",
        "# Combine inputs and outputs to create model\n",
        "model_2 = tf.keras.Model(inputs,outputs)\n",
        "\n",
        "#Compile Model \n",
        "model_2.compile(optimizer=tf.optimizers.Adam(lr=0.001),loss=tf.losses.CategoricalCrossentropy(),metrics=['accuracy'])\n",
        "\n",
        "hist_3 = model_2.fit(train_images_norm,train_labels, epochs=10, validation_data=(test_images_norm,test_labels))"
      ],
      "metadata": {
        "colab": {
          "base_uri": "https://localhost:8080/"
        },
        "id": "IQ0c-t1VWtEi",
        "outputId": "d192a342-355b-4cd0-dc25-aa5210ec0259"
      },
      "execution_count": 44,
      "outputs": [
        {
          "output_type": "stream",
          "name": "stdout",
          "text": [
            "WARNING:tensorflow:`input_shape` is undefined or non-square, or `rows` is not in [128, 160, 192, 224]. Weights for input shape (224, 224) will be loaded as the default.\n",
            "Epoch 1/10\n"
          ]
        },
        {
          "output_type": "stream",
          "name": "stderr",
          "text": [
            "/usr/local/lib/python3.7/dist-packages/keras/optimizer_v2/adam.py:105: UserWarning: The `lr` argument is deprecated, use `learning_rate` instead.\n",
            "  super(Adam, self).__init__(name, **kwargs)\n"
          ]
        },
        {
          "output_type": "stream",
          "name": "stdout",
          "text": [
            "1/1 [==============================] - 5s 5s/step - loss: 2.9106 - accuracy: 0.0938 - val_loss: 2.7070 - val_accuracy: 0.1875\n",
            "Epoch 2/10\n",
            "1/1 [==============================] - 0s 275ms/step - loss: 0.0031 - accuracy: 1.0000 - val_loss: 3.5871 - val_accuracy: 0.1562\n",
            "Epoch 3/10\n",
            "1/1 [==============================] - 0s 273ms/step - loss: 5.2436e-04 - accuracy: 1.0000 - val_loss: 4.3508 - val_accuracy: 0.2188\n",
            "Epoch 4/10\n",
            "1/1 [==============================] - 0s 274ms/step - loss: 3.8176e-04 - accuracy: 1.0000 - val_loss: 4.9015 - val_accuracy: 0.2188\n",
            "Epoch 5/10\n",
            "1/1 [==============================] - 0s 367ms/step - loss: 4.5218e-04 - accuracy: 1.0000 - val_loss: 5.2956 - val_accuracy: 0.2500\n",
            "Epoch 6/10\n",
            "1/1 [==============================] - 0s 289ms/step - loss: 6.1148e-04 - accuracy: 1.0000 - val_loss: 5.5595 - val_accuracy: 0.2500\n",
            "Epoch 7/10\n",
            "1/1 [==============================] - 0s 246ms/step - loss: 7.2145e-04 - accuracy: 1.0000 - val_loss: 5.7286 - val_accuracy: 0.2500\n",
            "Epoch 8/10\n",
            "1/1 [==============================] - 0s 249ms/step - loss: 7.5506e-04 - accuracy: 1.0000 - val_loss: 5.8497 - val_accuracy: 0.2188\n",
            "Epoch 9/10\n",
            "1/1 [==============================] - 0s 249ms/step - loss: 7.5136e-04 - accuracy: 1.0000 - val_loss: 5.9446 - val_accuracy: 0.2188\n",
            "Epoch 10/10\n",
            "1/1 [==============================] - 0s 237ms/step - loss: 6.8194e-04 - accuracy: 1.0000 - val_loss: 6.0268 - val_accuracy: 0.2188\n"
          ]
        }
      ]
    },
    {
      "cell_type": "markdown",
      "source": [
        "Again another problem data got overfit on training set.\n",
        "\n",
        "What should we do now lets use another model from keras."
      ],
      "metadata": {
        "id": "SqONm4LzXWJI"
      }
    },
    {
      "cell_type": "markdown",
      "source": [
        "## Here we are going to use VGG19 model and imagenet weights"
      ],
      "metadata": {
        "id": "IZmuBaXCXotq"
      }
    },
    {
      "cell_type": "code",
      "source": [
        "base_model = tf.keras.applications.VGG19(\n",
        "    weights='imagenet',\n",
        "    input_shape=(224, 224, 3),\n",
        "    include_top=False)"
      ],
      "metadata": {
        "id": "KENAt3pkXR2v"
      },
      "execution_count": 47,
      "outputs": []
    },
    {
      "cell_type": "code",
      "source": [
        "# Freeze the base model to check the performance\n",
        "\n",
        "base_model.trainable = False"
      ],
      "metadata": {
        "id": "BYNMrE4kX0XL"
      },
      "execution_count": 48,
      "outputs": []
    },
    {
      "cell_type": "code",
      "source": [
        "inputs = tf.keras.layers.Input(shape=(224,224,3))\n",
        "\n",
        "x =base_model(inputs)\n",
        "\n",
        "# Add pooling layer or flatten layer\n",
        "x = tf.keras.layers.GlobalAveragePooling2D()(x)\n",
        "\n",
        "# Add final dense layer\n",
        "outputs = tf.keras.layers.Dense(10, activation = 'softmax')(x)\n",
        "\n",
        "model_3 = tf.keras.Model(inputs, outputs)"
      ],
      "metadata": {
        "id": "BVIVoihoX0Tc"
      },
      "execution_count": 50,
      "outputs": []
    },
    {
      "cell_type": "code",
      "source": [
        "model_3.compile(optimizer = 'Adam', loss='categorical_crossentropy', metrics=['accuracy'])"
      ],
      "metadata": {
        "id": "BDCxTbgkg9de"
      },
      "execution_count": 51,
      "outputs": []
    },
    {
      "cell_type": "code",
      "source": [
        "hist_3 = model_3.fit(train_data, epochs=20, validation_data=(test_data))"
      ],
      "metadata": {
        "colab": {
          "base_uri": "https://localhost:8080/"
        },
        "id": "tajQQv19X0SI",
        "outputId": "4daa2a09-79d1-4c7f-e340-21f05cd07c71"
      },
      "execution_count": 52,
      "outputs": [
        {
          "output_type": "stream",
          "name": "stdout",
          "text": [
            "Epoch 1/20\n",
            "24/24 [==============================] - 55s 2s/step - loss: 6.9744 - accuracy: 0.1507 - val_loss: 5.3234 - val_accuracy: 0.1912\n",
            "Epoch 2/20\n",
            "24/24 [==============================] - 49s 2s/step - loss: 4.6612 - accuracy: 0.2200 - val_loss: 3.9705 - val_accuracy: 0.2724\n",
            "Epoch 3/20\n",
            "24/24 [==============================] - 48s 2s/step - loss: 3.3991 - accuracy: 0.3440 - val_loss: 3.2953 - val_accuracy: 0.3336\n",
            "Epoch 4/20\n",
            "24/24 [==============================] - 48s 2s/step - loss: 2.8404 - accuracy: 0.3907 - val_loss: 2.9361 - val_accuracy: 0.3904\n",
            "Epoch 5/20\n",
            "24/24 [==============================] - 48s 2s/step - loss: 2.2840 - accuracy: 0.4693 - val_loss: 2.5597 - val_accuracy: 0.4292\n",
            "Epoch 6/20\n",
            "24/24 [==============================] - 48s 2s/step - loss: 1.9838 - accuracy: 0.5040 - val_loss: 2.4183 - val_accuracy: 0.4616\n",
            "Epoch 7/20\n",
            "24/24 [==============================] - 48s 2s/step - loss: 1.8303 - accuracy: 0.5360 - val_loss: 2.2507 - val_accuracy: 0.4860\n",
            "Epoch 8/20\n",
            "24/24 [==============================] - 47s 2s/step - loss: 1.5474 - accuracy: 0.5907 - val_loss: 2.1461 - val_accuracy: 0.5032\n",
            "Epoch 9/20\n",
            "24/24 [==============================] - 47s 2s/step - loss: 1.3777 - accuracy: 0.6373 - val_loss: 2.1403 - val_accuracy: 0.5156\n",
            "Epoch 10/20\n",
            "24/24 [==============================] - 48s 2s/step - loss: 1.3304 - accuracy: 0.6427 - val_loss: 2.0650 - val_accuracy: 0.5140\n",
            "Epoch 11/20\n",
            "24/24 [==============================] - 47s 2s/step - loss: 1.1736 - accuracy: 0.6653 - val_loss: 2.0292 - val_accuracy: 0.5308\n",
            "Epoch 12/20\n",
            "24/24 [==============================] - 47s 2s/step - loss: 1.0520 - accuracy: 0.6893 - val_loss: 1.9379 - val_accuracy: 0.5428\n",
            "Epoch 13/20\n",
            "24/24 [==============================] - 48s 2s/step - loss: 1.0003 - accuracy: 0.7107 - val_loss: 1.9118 - val_accuracy: 0.5568\n",
            "Epoch 14/20\n",
            "24/24 [==============================] - 48s 2s/step - loss: 0.9369 - accuracy: 0.7160 - val_loss: 1.9005 - val_accuracy: 0.5544\n",
            "Epoch 15/20\n",
            "24/24 [==============================] - 48s 2s/step - loss: 0.8543 - accuracy: 0.7253 - val_loss: 1.8969 - val_accuracy: 0.5532\n",
            "Epoch 16/20\n",
            "24/24 [==============================] - 48s 2s/step - loss: 0.7657 - accuracy: 0.7560 - val_loss: 1.7984 - val_accuracy: 0.5636\n",
            "Epoch 17/20\n",
            "24/24 [==============================] - 48s 2s/step - loss: 0.7332 - accuracy: 0.7453 - val_loss: 1.8299 - val_accuracy: 0.5668\n",
            "Epoch 18/20\n",
            "24/24 [==============================] - 47s 2s/step - loss: 0.7397 - accuracy: 0.7573 - val_loss: 1.8136 - val_accuracy: 0.5632\n",
            "Epoch 19/20\n",
            "24/24 [==============================] - 47s 2s/step - loss: 0.6772 - accuracy: 0.7720 - val_loss: 1.8523 - val_accuracy: 0.5596\n",
            "Epoch 20/20\n",
            "24/24 [==============================] - 47s 2s/step - loss: 0.6566 - accuracy: 0.7853 - val_loss: 1.7996 - val_accuracy: 0.5596\n"
          ]
        }
      ]
    },
    {
      "cell_type": "code",
      "source": [
        "plot_loss(hist_3)"
      ],
      "metadata": {
        "colab": {
          "base_uri": "https://localhost:8080/",
          "height": 573
        },
        "id": "OCvrdSZAXxJq",
        "outputId": "19a99662-0d03-41e4-d276-3d271a92643f"
      },
      "execution_count": 53,
      "outputs": [
        {
          "output_type": "display_data",
          "data": {
            "text/plain": [
              "<Figure size 432x288 with 1 Axes>"
            ],
            "image/png": "[encoded data removed]"
          },
          "metadata": {
            "needs_background": "light"
          }
        },
        {
          "output_type": "display_data",
          "data": {
            "text/plain": [
              "<Figure size 432x288 with 1 Axes>"
            ],
            "image/png": "[encoded data removed]"
          },
          "metadata": {
            "needs_background": "light"
          }
        }
      ]
    },
    {
      "cell_type": "code",
      "source": [
        "\n",
        "# Setup the input shape to our model\n",
        "input_shape = (224, 224, 3)\n",
        "\n",
        "# Create a frozen base model\n",
        "base_model = tf.keras.applications.EfficientNetB2(include_top=False)\n",
        "base_model.trainable = True\n",
        "\n",
        "# Create input and output layers\n",
        "inputs = tf.keras.layers.Input(shape=input_shape, name=\"input_layer\") # create input layer\n",
        "\n",
        "x = base_model(inputs) # pass augmented images to base model but keep it in inference mode, so batchnorm layers don't get updated: https://keras.io/guides/transfer_learning/#build-a-model \n",
        "x = tf.keras.layers.GlobalAveragePooling2D(name=\"global_average_pooling_layer\")(x)\n",
        "outputs = tf.keras.layers.Dense(10, activation=\"softmax\", name=\"output_layer\")(x)\n",
        "model_4 = tf.keras.Model(inputs, outputs)\n",
        "\n",
        "# Compile\n",
        "model_4.compile(loss=\"categorical_crossentropy\",\n",
        "              optimizer=tf.keras.optimizers.Adam(lr=0.001), # use Adam optimizer with base learning rate\n",
        "              metrics=[\"accuracy\"])\n"
      ],
      "metadata": {
        "colab": {
          "base_uri": "https://localhost:8080/"
        },
        "id": "v8a7P5v1ngry",
        "outputId": "9e6038eb-5c8e-46e6-f6e6-65a8563e517e"
      },
      "execution_count": 16,
      "outputs": [
        {
          "output_type": "stream",
          "name": "stderr",
          "text": [
            "/usr/local/lib/python3.7/dist-packages/keras/optimizer_v2/adam.py:105: UserWarning: The `lr` argument is deprecated, use `learning_rate` instead.\n",
            "  super(Adam, self).__init__(name, **kwargs)\n"
          ]
        }
      ]
    },
    {
      "cell_type": "code",
      "source": [
        "hist_4 = model_4.fit(train_data, epochs=20, validation_data=(test_data))"
      ],
      "metadata": {
        "colab": {
          "base_uri": "https://localhost:8080/"
        },
        "id": "w3o7dDm_oMOZ",
        "outputId": "22b2f78f-0871-4652-ce7c-2ca97b651492"
      },
      "execution_count": 17,
      "outputs": [
        {
          "output_type": "stream",
          "name": "stdout",
          "text": [
            "Epoch 1/20\n",
            "24/24 [==============================] - 66s 2s/step - loss: 1.3749 - accuracy: 0.5213 - val_loss: 1.2429 - val_accuracy: 0.6540\n",
            "Epoch 2/20\n",
            "24/24 [==============================] - 48s 2s/step - loss: 0.3962 - accuracy: 0.8813 - val_loss: 2.2463 - val_accuracy: 0.5636\n",
            "Epoch 3/20\n",
            "24/24 [==============================] - 48s 2s/step - loss: 0.2223 - accuracy: 0.9307 - val_loss: 1.7514 - val_accuracy: 0.6076\n",
            "Epoch 4/20\n",
            "24/24 [==============================] - 48s 2s/step - loss: 0.1328 - accuracy: 0.9613 - val_loss: 1.4744 - val_accuracy: 0.6572\n",
            "Epoch 5/20\n",
            "24/24 [==============================] - 48s 2s/step - loss: 0.0937 - accuracy: 0.9693 - val_loss: 1.3417 - val_accuracy: 0.7136\n",
            "Epoch 6/20\n",
            "24/24 [==============================] - 48s 2s/step - loss: 0.1644 - accuracy: 0.9480 - val_loss: 1.4096 - val_accuracy: 0.6984\n",
            "Epoch 7/20\n",
            "24/24 [==============================] - 49s 2s/step - loss: 0.1990 - accuracy: 0.9293 - val_loss: 2.1085 - val_accuracy: 0.6124\n",
            "Epoch 8/20\n",
            "24/24 [==============================] - 48s 2s/step - loss: 0.2837 - accuracy: 0.9133 - val_loss: 1.6825 - val_accuracy: 0.6728\n",
            "Epoch 9/20\n",
            "24/24 [==============================] - 48s 2s/step - loss: 0.2628 - accuracy: 0.9213 - val_loss: 1.4588 - val_accuracy: 0.6220\n",
            "Epoch 10/20\n",
            "24/24 [==============================] - 48s 2s/step - loss: 0.1689 - accuracy: 0.9480 - val_loss: 0.9684 - val_accuracy: 0.7564\n",
            "Epoch 11/20\n",
            "24/24 [==============================] - 48s 2s/step - loss: 0.1012 - accuracy: 0.9680 - val_loss: 1.4109 - val_accuracy: 0.7024\n",
            "Epoch 12/20\n",
            "24/24 [==============================] - 55s 2s/step - loss: 0.0822 - accuracy: 0.9707 - val_loss: 1.0657 - val_accuracy: 0.7612\n",
            "Epoch 13/20\n",
            "24/24 [==============================] - 48s 2s/step - loss: 0.0855 - accuracy: 0.9693 - val_loss: 1.6217 - val_accuracy: 0.6736\n",
            "Epoch 14/20\n",
            "24/24 [==============================] - 48s 2s/step - loss: 0.0528 - accuracy: 0.9853 - val_loss: 1.1506 - val_accuracy: 0.7460\n",
            "Epoch 15/20\n",
            "24/24 [==============================] - 48s 2s/step - loss: 0.0568 - accuracy: 0.9853 - val_loss: 1.0212 - val_accuracy: 0.7640\n",
            "Epoch 16/20\n",
            "24/24 [==============================] - 48s 2s/step - loss: 0.0724 - accuracy: 0.9760 - val_loss: 1.2232 - val_accuracy: 0.7520\n",
            "Epoch 17/20\n",
            "24/24 [==============================] - 48s 2s/step - loss: 0.0522 - accuracy: 0.9827 - val_loss: 1.1054 - val_accuracy: 0.7492\n",
            "Epoch 18/20\n",
            "24/24 [==============================] - 49s 2s/step - loss: 0.0627 - accuracy: 0.9813 - val_loss: 1.2981 - val_accuracy: 0.7268\n",
            "Epoch 19/20\n",
            "24/24 [==============================] - 48s 2s/step - loss: 0.0798 - accuracy: 0.9827 - val_loss: 1.0630 - val_accuracy: 0.7588\n",
            "Epoch 20/20\n",
            "24/24 [==============================] - 48s 2s/step - loss: 0.1327 - accuracy: 0.9600 - val_loss: 1.2670 - val_accuracy: 0.7368\n"
          ]
        }
      ]
    },
    {
      "cell_type": "code",
      "source": [
        "plot_loss(hist_4)"
      ],
      "metadata": {
        "colab": {
          "base_uri": "https://localhost:8080/",
          "height": 573
        },
        "id": "Ea-SisT-oSe9",
        "outputId": "dcd84f20-e04a-4ab6-c33b-59fe9a580d20"
      },
      "execution_count": 18,
      "outputs": [
        {
          "output_type": "display_data",
          "data": {
            "text/plain": [
              "<Figure size 432x288 with 1 Axes>"
            ],
            "image/png": "[encoded data removed]"
          },
          "metadata": {
            "needs_background": "light"
          }
        },
        {
          "output_type": "display_data",
          "data": {
            "text/plain": [
              "<Figure size 432x288 with 1 Axes>"
            ],
            "image/png": "[encoded data removed]"
          },
          "metadata": {
            "needs_background": "light"
          }
        }
      ]
    },
    {
      "cell_type": "code",
      "source": [
        ""
      ],
      "metadata": {
        "id": "0GOLOHZHi6aa"
      },
      "execution_count": null,
      "outputs": []
    }
  ]
}