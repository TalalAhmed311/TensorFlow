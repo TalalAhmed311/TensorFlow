{
  "nbformat": 4,
  "nbformat_minor": 0,
  "metadata": {
    "colab": {
      "name": "NLP.ipynb",
      "provenance": [],
      "collapsed_sections": []
    },
    "kernelspec": {
      "name": "python3",
      "display_name": "Python 3"
    },
    "language_info": {
      "name": "python"
    },
    "accelerator": "GPU",
    "gpuClass": "standard"
  },
  "cells": [
    {
      "cell_type": "markdown",
      "source": [
        "## Natural Language Processing\"\n",
        " It is a technology which is to make computers understand the human language.\n",
        "\n",
        "\n",
        " ### Example:\n",
        "\n",
        "1.   Chatbots\n",
        "2.   Audio to text\n",
        "3.   Text to Audio\n",
        "4.   Language Translation\n",
        "5.   Suggesting words while searching\n",
        "\n",
        "\n",
        "\n",
        "\n"
      ],
      "metadata": {
        "id": "BufRasUDT9wU"
      }
    },
    {
      "cell_type": "markdown",
      "source": [
        "There two important key Concepts in NLP.\n",
        "\n",
        "### Syntax:\n",
        "Refers to the arrangment of words (Grammmar)\n",
        "\n",
        "Techniques to deal with syntax,\n",
        "\n",
        "\n",
        "\n",
        "1.   Lematization: Reducing different words into their root words.\n",
        "\n",
        "2.   Morphological Segmentation:It involves dividing words into individual units called morphemes.\n",
        "\n",
        "3.   Word Segmentation: It involves dividing a large piece of continuous text into distinct units.\n",
        "\n",
        "4.   Parts of Speech Tagging: It involves identifying the part of speech for every word.\n",
        "\n",
        "5.   Parsing: It involves undertaking grammatical analysis for the provided sentence.\n",
        "6.   Sentence breaking: It involves placing sentence boundaries on a large piece of text.\n",
        "\n",
        "\n",
        "\n",
        "\n",
        "\n",
        "\n",
        "\n",
        "\n"
      ],
      "metadata": {
        "id": "tvQw06NDVsu9"
      }
    },
    {
      "cell_type": "markdown",
      "source": [
        "### Sematics:\n",
        "Refer to the context and meaning of the word.\n",
        "\n",
        "Techniques:\n",
        "\n",
        "1. Named entity recognition (NER): It involves determining the parts of a text that can be identified and categorized into preset groups. Examples of such groups include names of people and names of places.\n",
        "\n",
        "2.  Word sense disambiguation: It involves giving meaning to a word based on the context.\n",
        "\n",
        "3.  Natural language generation: It involves using databases to derive semantic intentions and convert them into human language."
      ],
      "metadata": {
        "id": "f9KLQOtxiS9U"
      }
    },
    {
      "cell_type": "markdown",
      "source": [
        "# Lets jump to Coding "
      ],
      "metadata": {
        "id": "DmyXJgsPim2e"
      }
    },
    {
      "cell_type": "markdown",
      "source": [
        "### Downloan Dataset\n",
        "\n",
        "We are using Tweets dataset about  natural disasters and will try to classify them using deep learning."
      ],
      "metadata": {
        "id": "sDNFfguwkavV"
      }
    },
    {
      "cell_type": "markdown",
      "source": [
        "Link: https://www.kaggle.com/c/nlp-getting-started/data"
      ],
      "metadata": {
        "id": "wtzYOcD4kXqb"
      }
    },
    {
      "cell_type": "markdown",
      "source": [
        "### Visualize Dataset"
      ],
      "metadata": {
        "id": "_RIn1gaDkv72"
      }
    },
    {
      "cell_type": "code",
      "execution_count": 2,
      "metadata": {
        "id": "97292eNkSygi"
      },
      "outputs": [],
      "source": [
        "import pandas as pd\n",
        "\n",
        "train_df = pd.read_csv('train.csv')\n",
        "test_df = pd.read_csv('test.csv')"
      ]
    },
    {
      "cell_type": "code",
      "source": [
        "train_df.head()"
      ],
      "metadata": {
        "colab": {
          "base_uri": "https://localhost:8080/",
          "height": 206
        },
        "id": "wwLNQhMykUYT",
        "outputId": "9a4dfbbc-d8b9-450f-8bb0-086ecd9022b3"
      },
      "execution_count": 3,
      "outputs": [
        {
          "output_type": "execute_result",
          "data": {
            "text/plain": [
              "   id keyword location                                               text  \\\n",
              "0   1     NaN      NaN  Our Deeds are the Reason of this #earthquake M...   \n",
              "1   4     NaN      NaN             Forest fire near La Ronge Sask. Canada   \n",
              "2   5     NaN      NaN  All residents asked to 'shelter in place' are ...   \n",
              "3   6     NaN      NaN  13,000 people receive #wildfires evacuation or...   \n",
              "4   7     NaN      NaN  Just got sent this photo from Ruby #Alaska as ...   \n",
              "\n",
              "   target  \n",
              "0       1  \n",
              "1       1  \n",
              "2       1  \n",
              "3       1  \n",
              "4       1  "
            ],
            "text/html": [
              "\n",
              "  <div id=\"df-904bca13-7e86-4f10-8c3a-a1f1a4bd7add\">\n",
              "    <div class=\"colab-df-container\">\n",
              "      <div>\n",
              "<style scoped>\n",
              "    .dataframe tbody tr th:only-of-type {\n",
              "        vertical-align: middle;\n",
              "    }\n",
              "\n",
              "    .dataframe tbody tr th {\n",
              "        vertical-align: top;\n",
              "    }\n",
              "\n",
              "    .dataframe thead th {\n",
              "        text-align: right;\n",
              "    }\n",
              "</style>\n",
              "<table border=\"1\" class=\"dataframe\">\n",
              "  <thead>\n",
              "    <tr style=\"text-align: right;\">\n",
              "      <th></th>\n",
              "      <th>id</th>\n",
              "      <th>keyword</th>\n",
              "      <th>location</th>\n",
              "      <th>text</th>\n",
              "      <th>target</th>\n",
              "    </tr>\n",
              "  </thead>\n",
              "  <tbody>\n",
              "    <tr>\n",
              "      <th>0</th>\n",
              "      <td>1</td>\n",
              "      <td>NaN</td>\n",
              "      <td>NaN</td>\n",
              "      <td>Our Deeds are the Reason of this #earthquake M...</td>\n",
              "      <td>1</td>\n",
              "    </tr>\n",
              "    <tr>\n",
              "      <th>1</th>\n",
              "      <td>4</td>\n",
              "      <td>NaN</td>\n",
              "      <td>NaN</td>\n",
              "      <td>Forest fire near La Ronge Sask. Canada</td>\n",
              "      <td>1</td>\n",
              "    </tr>\n",
              "    <tr>\n",
              "      <th>2</th>\n",
              "      <td>5</td>\n",
              "      <td>NaN</td>\n",
              "      <td>NaN</td>\n",
              "      <td>All residents asked to 'shelter in place' are ...</td>\n",
              "      <td>1</td>\n",
              "    </tr>\n",
              "    <tr>\n",
              "      <th>3</th>\n",
              "      <td>6</td>\n",
              "      <td>NaN</td>\n",
              "      <td>NaN</td>\n",
              "      <td>13,000 people receive #wildfires evacuation or...</td>\n",
              "      <td>1</td>\n",
              "    </tr>\n",
              "    <tr>\n",
              "      <th>4</th>\n",
              "      <td>7</td>\n",
              "      <td>NaN</td>\n",
              "      <td>NaN</td>\n",
              "      <td>Just got sent this photo from Ruby #Alaska as ...</td>\n",
              "      <td>1</td>\n",
              "    </tr>\n",
              "  </tbody>\n",
              "</table>\n",
              "</div>\n",
              "      <button class=\"colab-df-convert\" onclick=\"convertToInteractive('df-904bca13-7e86-4f10-8c3a-a1f1a4bd7add')\"\n",
              "              title=\"Convert this dataframe to an interactive table.\"\n",
              "              style=\"display:none;\">\n",
              "        \n",
              "  <svg xmlns=\"http://www.w3.org/2000/svg\" height=\"24px\"viewBox=\"0 0 24 24\"\n",
              "       width=\"24px\">\n",
              "    <path d=\"M0 0h24v24H0V0z\" fill=\"none\"/>\n",
              "    <path d=\"M18.56 5.44l.94 2.06.94-2.06 2.06-.94-2.06-.94-.94-2.06-.94 2.06-2.06.94zm-11 1L8.5 8.5l.94-2.06 2.06-.94-2.06-.94L8.5 2.5l-.94 2.06-2.06.94zm10 10l.94 2.06.94-2.06 2.06-.94-2.06-.94-.94-2.06-.94 2.06-2.06.94z\"/><path d=\"M17.41 7.96l-1.37-1.37c-.4-.4-.92-.59-1.43-.59-.52 0-1.04.2-1.43.59L10.3 9.45l-7.72 7.72c-.78.78-.78 2.05 0 2.83L4 21.41c.39.39.9.59 1.41.59.51 0 1.02-.2 1.41-.59l7.78-7.78 2.81-2.81c.8-.78.8-2.07 0-2.86zM5.41 20L4 18.59l7.72-7.72 1.47 1.35L5.41 20z\"/>\n",
              "  </svg>\n",
              "      </button>\n",
              "      \n",
              "  <style>\n",
              "    .colab-df-container {\n",
              "      display:flex;\n",
              "      flex-wrap:wrap;\n",
              "      gap: 12px;\n",
              "    }\n",
              "\n",
              "    .colab-df-convert {\n",
              "      background-color: #E8F0FE;\n",
              "      border: none;\n",
              "      border-radius: 50%;\n",
              "      cursor: pointer;\n",
              "      display: none;\n",
              "      fill: #1967D2;\n",
              "      height: 32px;\n",
              "      padding: 0 0 0 0;\n",
              "      width: 32px;\n",
              "    }\n",
              "\n",
              "    .colab-df-convert:hover {\n",
              "      background-color: #E2EBFA;\n",
              "      box-shadow: 0px 1px 2px rgba(60, 64, 67, 0.3), 0px 1px 3px 1px rgba(60, 64, 67, 0.15);\n",
              "      fill: #174EA6;\n",
              "    }\n",
              "\n",
              "    [theme=dark] .colab-df-convert {\n",
              "      background-color: #3B4455;\n",
              "      fill: #D2E3FC;\n",
              "    }\n",
              "\n",
              "    [theme=dark] .colab-df-convert:hover {\n",
              "      background-color: #434B5C;\n",
              "      box-shadow: 0px 1px 3px 1px rgba(0, 0, 0, 0.15);\n",
              "      filter: drop-shadow(0px 1px 2px rgba(0, 0, 0, 0.3));\n",
              "      fill: #FFFFFF;\n",
              "    }\n",
              "  </style>\n",
              "\n",
              "      <script>\n",
              "        const buttonEl =\n",
              "          document.querySelector('#df-904bca13-7e86-4f10-8c3a-a1f1a4bd7add button.colab-df-convert');\n",
              "        buttonEl.style.display =\n",
              "          google.colab.kernel.accessAllowed ? 'block' : 'none';\n",
              "\n",
              "        async function convertToInteractive(key) {\n",
              "          const element = document.querySelector('#df-904bca13-7e86-4f10-8c3a-a1f1a4bd7add');\n",
              "          const dataTable =\n",
              "            await google.colab.kernel.invokeFunction('convertToInteractive',\n",
              "                                                     [key], {});\n",
              "          if (!dataTable) return;\n",
              "\n",
              "          const docLinkHtml = 'Like what you see? Visit the ' +\n",
              "            '<a target=\"_blank\" href=https://colab.research.google.com/notebooks/data_table.ipynb>data table notebook</a>'\n",
              "            + ' to learn more about interactive tables.';\n",
              "          element.innerHTML = '';\n",
              "          dataTable['output_type'] = 'display_data';\n",
              "          await google.colab.output.renderOutput(dataTable, element);\n",
              "          const docLink = document.createElement('div');\n",
              "          docLink.innerHTML = docLinkHtml;\n",
              "          element.appendChild(docLink);\n",
              "        }\n",
              "      </script>\n",
              "    </div>\n",
              "  </div>\n",
              "  "
            ]
          },
          "metadata": {},
          "execution_count": 3
        }
      ]
    },
    {
      "cell_type": "code",
      "source": [
        "test_df.head()"
      ],
      "metadata": {
        "colab": {
          "base_uri": "https://localhost:8080/",
          "height": 206
        },
        "id": "2JiPXEUFkVk6",
        "outputId": "c2054fa8-0467-49f0-8a61-dd1f4560fec7"
      },
      "execution_count": 4,
      "outputs": [
        {
          "output_type": "execute_result",
          "data": {
            "text/plain": [
              "   id keyword location                                               text\n",
              "0   0     NaN      NaN                 Just happened a terrible car crash\n",
              "1   2     NaN      NaN  Heard about #earthquake is different cities, s...\n",
              "2   3     NaN      NaN  there is a forest fire at spot pond, geese are...\n",
              "3   9     NaN      NaN           Apocalypse lighting. #Spokane #wildfires\n",
              "4  11     NaN      NaN      Typhoon Soudelor kills 28 in China and Taiwan"
            ],
            "text/html": [
              "\n",
              "  <div id=\"df-421d1165-f569-4031-8990-b594b30bd152\">\n",
              "    <div class=\"colab-df-container\">\n",
              "      <div>\n",
              "<style scoped>\n",
              "    .dataframe tbody tr th:only-of-type {\n",
              "        vertical-align: middle;\n",
              "    }\n",
              "\n",
              "    .dataframe tbody tr th {\n",
              "        vertical-align: top;\n",
              "    }\n",
              "\n",
              "    .dataframe thead th {\n",
              "        text-align: right;\n",
              "    }\n",
              "</style>\n",
              "<table border=\"1\" class=\"dataframe\">\n",
              "  <thead>\n",
              "    <tr style=\"text-align: right;\">\n",
              "      <th></th>\n",
              "      <th>id</th>\n",
              "      <th>keyword</th>\n",
              "      <th>location</th>\n",
              "      <th>text</th>\n",
              "    </tr>\n",
              "  </thead>\n",
              "  <tbody>\n",
              "    <tr>\n",
              "      <th>0</th>\n",
              "      <td>0</td>\n",
              "      <td>NaN</td>\n",
              "      <td>NaN</td>\n",
              "      <td>Just happened a terrible car crash</td>\n",
              "    </tr>\n",
              "    <tr>\n",
              "      <th>1</th>\n",
              "      <td>2</td>\n",
              "      <td>NaN</td>\n",
              "      <td>NaN</td>\n",
              "      <td>Heard about #earthquake is different cities, s...</td>\n",
              "    </tr>\n",
              "    <tr>\n",
              "      <th>2</th>\n",
              "      <td>3</td>\n",
              "      <td>NaN</td>\n",
              "      <td>NaN</td>\n",
              "      <td>there is a forest fire at spot pond, geese are...</td>\n",
              "    </tr>\n",
              "    <tr>\n",
              "      <th>3</th>\n",
              "      <td>9</td>\n",
              "      <td>NaN</td>\n",
              "      <td>NaN</td>\n",
              "      <td>Apocalypse lighting. #Spokane #wildfires</td>\n",
              "    </tr>\n",
              "    <tr>\n",
              "      <th>4</th>\n",
              "      <td>11</td>\n",
              "      <td>NaN</td>\n",
              "      <td>NaN</td>\n",
              "      <td>Typhoon Soudelor kills 28 in China and Taiwan</td>\n",
              "    </tr>\n",
              "  </tbody>\n",
              "</table>\n",
              "</div>\n",
              "      <button class=\"colab-df-convert\" onclick=\"convertToInteractive('df-421d1165-f569-4031-8990-b594b30bd152')\"\n",
              "              title=\"Convert this dataframe to an interactive table.\"\n",
              "              style=\"display:none;\">\n",
              "        \n",
              "  <svg xmlns=\"http://www.w3.org/2000/svg\" height=\"24px\"viewBox=\"0 0 24 24\"\n",
              "       width=\"24px\">\n",
              "    <path d=\"M0 0h24v24H0V0z\" fill=\"none\"/>\n",
              "    <path d=\"M18.56 5.44l.94 2.06.94-2.06 2.06-.94-2.06-.94-.94-2.06-.94 2.06-2.06.94zm-11 1L8.5 8.5l.94-2.06 2.06-.94-2.06-.94L8.5 2.5l-.94 2.06-2.06.94zm10 10l.94 2.06.94-2.06 2.06-.94-2.06-.94-.94-2.06-.94 2.06-2.06.94z\"/><path d=\"M17.41 7.96l-1.37-1.37c-.4-.4-.92-.59-1.43-.59-.52 0-1.04.2-1.43.59L10.3 9.45l-7.72 7.72c-.78.78-.78 2.05 0 2.83L4 21.41c.39.39.9.59 1.41.59.51 0 1.02-.2 1.41-.59l7.78-7.78 2.81-2.81c.8-.78.8-2.07 0-2.86zM5.41 20L4 18.59l7.72-7.72 1.47 1.35L5.41 20z\"/>\n",
              "  </svg>\n",
              "      </button>\n",
              "      \n",
              "  <style>\n",
              "    .colab-df-container {\n",
              "      display:flex;\n",
              "      flex-wrap:wrap;\n",
              "      gap: 12px;\n",
              "    }\n",
              "\n",
              "    .colab-df-convert {\n",
              "      background-color: #E8F0FE;\n",
              "      border: none;\n",
              "      border-radius: 50%;\n",
              "      cursor: pointer;\n",
              "      display: none;\n",
              "      fill: #1967D2;\n",
              "      height: 32px;\n",
              "      padding: 0 0 0 0;\n",
              "      width: 32px;\n",
              "    }\n",
              "\n",
              "    .colab-df-convert:hover {\n",
              "      background-color: #E2EBFA;\n",
              "      box-shadow: 0px 1px 2px rgba(60, 64, 67, 0.3), 0px 1px 3px 1px rgba(60, 64, 67, 0.15);\n",
              "      fill: #174EA6;\n",
              "    }\n",
              "\n",
              "    [theme=dark] .colab-df-convert {\n",
              "      background-color: #3B4455;\n",
              "      fill: #D2E3FC;\n",
              "    }\n",
              "\n",
              "    [theme=dark] .colab-df-convert:hover {\n",
              "      background-color: #434B5C;\n",
              "      box-shadow: 0px 1px 3px 1px rgba(0, 0, 0, 0.15);\n",
              "      filter: drop-shadow(0px 1px 2px rgba(0, 0, 0, 0.3));\n",
              "      fill: #FFFFFF;\n",
              "    }\n",
              "  </style>\n",
              "\n",
              "      <script>\n",
              "        const buttonEl =\n",
              "          document.querySelector('#df-421d1165-f569-4031-8990-b594b30bd152 button.colab-df-convert');\n",
              "        buttonEl.style.display =\n",
              "          google.colab.kernel.accessAllowed ? 'block' : 'none';\n",
              "\n",
              "        async function convertToInteractive(key) {\n",
              "          const element = document.querySelector('#df-421d1165-f569-4031-8990-b594b30bd152');\n",
              "          const dataTable =\n",
              "            await google.colab.kernel.invokeFunction('convertToInteractive',\n",
              "                                                     [key], {});\n",
              "          if (!dataTable) return;\n",
              "\n",
              "          const docLinkHtml = 'Like what you see? Visit the ' +\n",
              "            '<a target=\"_blank\" href=https://colab.research.google.com/notebooks/data_table.ipynb>data table notebook</a>'\n",
              "            + ' to learn more about interactive tables.';\n",
              "          element.innerHTML = '';\n",
              "          dataTable['output_type'] = 'display_data';\n",
              "          await google.colab.output.renderOutput(dataTable, element);\n",
              "          const docLink = document.createElement('div');\n",
              "          docLink.innerHTML = docLinkHtml;\n",
              "          element.appendChild(docLink);\n",
              "        }\n",
              "      </script>\n",
              "    </div>\n",
              "  </div>\n",
              "  "
            ]
          },
          "metadata": {},
          "execution_count": 4
        }
      ]
    },
    {
      "cell_type": "code",
      "source": [
        "train_df.target.value_counts()"
      ],
      "metadata": {
        "colab": {
          "base_uri": "https://localhost:8080/"
        },
        "id": "5wbP-fB1kXFc",
        "outputId": "cac8c70e-a43b-4d72-fa64-13081878448d"
      },
      "execution_count": 5,
      "outputs": [
        {
          "output_type": "execute_result",
          "data": {
            "text/plain": [
              "0    4342\n",
              "1    3271\n",
              "Name: target, dtype: int64"
            ]
          },
          "metadata": {},
          "execution_count": 5
        }
      ]
    },
    {
      "cell_type": "markdown",
      "source": [
        "1 = a real disaster Tweet\n",
        "\n",
        "0 = not a real disaster Tweet"
      ],
      "metadata": {
        "id": "hIm8HMvTlZSE"
      }
    },
    {
      "cell_type": "markdown",
      "source": [
        "Check dtypes of column and the shape of the dataframe by info"
      ],
      "metadata": {
        "id": "bZ_APc8llijx"
      }
    },
    {
      "cell_type": "code",
      "source": [
        "train_df.info()"
      ],
      "metadata": {
        "colab": {
          "base_uri": "https://localhost:8080/"
        },
        "id": "17kdJgXJlXq3",
        "outputId": "efc0f365-3ab4-4bdc-8420-e3879b7d0562"
      },
      "execution_count": 6,
      "outputs": [
        {
          "output_type": "stream",
          "name": "stdout",
          "text": [
            "<class 'pandas.core.frame.DataFrame'>\n",
            "RangeIndex: 7613 entries, 0 to 7612\n",
            "Data columns (total 5 columns):\n",
            " #   Column    Non-Null Count  Dtype \n",
            "---  ------    --------------  ----- \n",
            " 0   id        7613 non-null   int64 \n",
            " 1   keyword   7552 non-null   object\n",
            " 2   location  5080 non-null   object\n",
            " 3   text      7613 non-null   object\n",
            " 4   target    7613 non-null   int64 \n",
            "dtypes: int64(2), object(3)\n",
            "memory usage: 297.5+ KB\n"
          ]
        }
      ]
    },
    {
      "cell_type": "code",
      "source": [
        "test_df.info()"
      ],
      "metadata": {
        "colab": {
          "base_uri": "https://localhost:8080/"
        },
        "id": "ZoLGwU5olhMC",
        "outputId": "fe6df0ff-d505-42f9-d323-d6e9e23ba6e1"
      },
      "execution_count": 7,
      "outputs": [
        {
          "output_type": "stream",
          "name": "stdout",
          "text": [
            "<class 'pandas.core.frame.DataFrame'>\n",
            "RangeIndex: 3263 entries, 0 to 3262\n",
            "Data columns (total 4 columns):\n",
            " #   Column    Non-Null Count  Dtype \n",
            "---  ------    --------------  ----- \n",
            " 0   id        3263 non-null   int64 \n",
            " 1   keyword   3237 non-null   object\n",
            " 2   location  2158 non-null   object\n",
            " 3   text      3263 non-null   object\n",
            "dtypes: int64(1), object(3)\n",
            "memory usage: 102.1+ KB\n"
          ]
        }
      ]
    },
    {
      "cell_type": "markdown",
      "source": [
        "Visualize Some random examples from data"
      ],
      "metadata": {
        "id": "xCduavXbl6Od"
      }
    },
    {
      "cell_type": "code",
      "source": [
        "import random\n",
        "\n",
        "idx = random.randint(0,len(train_df)-5)\n",
        "\n",
        "for row in train_df[['text','target']][idx:idx+5].itertuples():\n",
        "  _, text, target = row\n",
        "  print(f\"Target: {target}\", \"(real disaster)\" if target > 0 else \"(not real disaster)\")\n",
        "  print(f\"Text:\\n{text}\\n\")\n",
        "  print(\"---\\n\")"
      ],
      "metadata": {
        "colab": {
          "base_uri": "https://localhost:8080/"
        },
        "id": "2RcbJQlklqJy",
        "outputId": "21191dac-1a67-48f8-9c31-1c59cc8609e6"
      },
      "execution_count": 8,
      "outputs": [
        {
          "output_type": "stream",
          "name": "stdout",
          "text": [
            "Target: 1 (real disaster)\n",
            "Text:\n",
            "? This Weekend: Stockholm Sweden - Aug 8 at Copperfields http://t.co/6un7xC9Sve\n",
            "\n",
            "---\n",
            "\n",
            "Target: 1 (real disaster)\n",
            "Text:\n",
            "The date for the release of EP03 DESOLATION is set. Stay tuned for more info while we finalise the schedule. #alt #electro #rock #comingsoon\n",
            "\n",
            "---\n",
            "\n",
            "Target: 0 (not real disaster)\n",
            "Text:\n",
            "Photoset: littlebitofbass: silinski: Ed Sheeran onåÊ'The Hobbit: The Desolation of Smaug' German premiere... http://t.co/iOsthxLcyv\n",
            "\n",
            "---\n",
            "\n",
            "Target: 0 (not real disaster)\n",
            "Text:\n",
            "The Hobbit Desolation of Smaug Thranduil 4' scale action figure loose Mirkwood - Full readÛ_ http://t.co/nYeL2BUAro http://t.co/2zGIUpn06T\n",
            "\n",
            "---\n",
            "\n",
            "Target: 1 (real disaster)\n",
            "Text:\n",
            "Just came back from camping and returned with a new song which gets recorded tomorrow. Can't wait! #Desolation #TheConspiracyTheory #NewEP\n",
            "\n",
            "---\n",
            "\n"
          ]
        }
      ]
    },
    {
      "cell_type": "markdown",
      "source": [
        "### Split data into training and validation set"
      ],
      "metadata": {
        "id": "Ai5OVqVXmxa6"
      }
    },
    {
      "cell_type": "code",
      "source": [
        "from sklearn.model_selection import train_test_split\n",
        "\n",
        "X_train, X_val, y_train, y_val = train_test_split(train_df['text'], train_df['target'], test_size=0.1, shuffle=True, random_state=42)"
      ],
      "metadata": {
        "id": "9_mWw0DLmgE_"
      },
      "execution_count": 9,
      "outputs": []
    },
    {
      "cell_type": "code",
      "source": [
        "X_train.shape, X_val.shape"
      ],
      "metadata": {
        "colab": {
          "base_uri": "https://localhost:8080/"
        },
        "id": "jW6SKvrTp7yM",
        "outputId": "1b428eba-08d5-4a50-ac68-a8f671369893"
      },
      "execution_count": 10,
      "outputs": [
        {
          "output_type": "execute_result",
          "data": {
            "text/plain": [
              "((6851,), (762,))"
            ]
          },
          "metadata": {},
          "execution_count": 10
        }
      ]
    },
    {
      "cell_type": "markdown",
      "source": [
        "### Converting Text into numbers\n",
        "\n",
        "Ok computer don't process words it process numbers.\n",
        "There a re various from which we can convert text into Numbers."
      ],
      "metadata": {
        "id": "886nWy6ZqFym"
      }
    },
    {
      "cell_type": "markdown",
      "source": [
        "*  Text Vectorization: \n",
        "\n",
        "A straight mapping from word or character or sub-word to a numerical value. \n",
        "\n",
        "\n",
        "1. Using word-level tokenization with the sentence \"I love \n",
        "TensorFlow\" might result in \"I\" being 0, \"love\" being 1 and \"TensorFlow\" being 2. In this case, every word in a sequence considered a single token.\n",
        "\n",
        "2. Character-level tokenization, such as converting the letters A-Z to values 1-26. In this case, every character in a sequence considered a single token.\n",
        "\n",
        "\n",
        "3. Sub-word tokenization is in between word-level and character-level tokenization. It involves breaking invidual words into smaller parts and then converting those smaller parts into numbers. For example, \"my favourite food is pineapple pizza\" might become \"my, fav, avour, rite, fo, oo, od, is, pin, ine, app, le, piz, za\". After doing this, these sub-words would then be mapped to a numerical value. In this case, every word could be considered multiple tokens.\n"
      ],
      "metadata": {
        "id": "it64tOA7tFyb"
      }
    },
    {
      "cell_type": "markdown",
      "source": [
        "\n",
        "### Embedding\n",
        "\n",
        "A fixed length of feature vector which represents the data.\n",
        "Word 'love' could be represented as [0.3,0.1,0,77]. \n"
      ],
      "metadata": {
        "id": "P_UdQT03tj-Q"
      }
    },
    {
      "cell_type": "markdown",
      "source": [
        "We will use TextVectorization from keras.\n",
        "\n",
        "* max_tokens - The maximum number of words in your vocabulary (e.g. 20000 or the number of unique words in your text), includes a value for OOV (out of vocabulary) tokens.\n",
        "\n",
        "* standardize - Method for standardizing text. Default is \"lower_and_strip_punctuation\" which lowers text and removes all punctuation marks.\n",
        "\n",
        "* split - How to split text, default is \"whitespace\" which splits on spaces.\n",
        "\n",
        "* ngrams - How many words to contain per token split, for example, ngrams=2 splits tokens into continuous sequences of 2.\n",
        "\n",
        "* output_mode - How to output tokens, can be \"int\" (integer mapping), \"binary\" (one-hot encoding), \"count\" or \"tf-idf\". See documentation for more.\n",
        "\n",
        "* output_sequence_length - Length of tokenized sequence to output. For example, if output_sequence_length=150, all tokenized sequences will be 150 tokens long.\n",
        "\n",
        "* pad_to_max_tokens - Defaults to False, if True, the output feature axis will be padded to max_tokens even if the number of unique tokens in the vocabulary is less than max_tokens. \n",
        "\n",
        "Only valid in certain modes, see docs for more."
      ],
      "metadata": {
        "id": "lmrXgeIPuLGl"
      }
    },
    {
      "cell_type": "code",
      "source": [
        "import tensorflow as tf\n",
        "from tensorflow.keras.layers.experimental.preprocessing import TextVectorization\n",
        "\n",
        "\n",
        "max_vocab_length = 10000 # max number of words to have in our vocabulary\n",
        "max_length = 15 # max length our sequences will be (e.g. how many words from a Tweet does our model see?)\n",
        "\n",
        "\n",
        "text_vectorizer = TextVectorization(\n",
        "    max_tokens=max_vocab_length, \n",
        "    standardize='lower_and_strip_punctuation', # text processing \n",
        "    split = 'whitespace',\n",
        "    ngrams = None, # Make tokens of each word\n",
        "    output_mode = 'int',\n",
        "    output_sequence_length = max_length\n",
        ")"
      ],
      "metadata": {
        "id": "JvLic1TpqAiZ"
      },
      "execution_count": 11,
      "outputs": []
    },
    {
      "cell_type": "code",
      "source": [
        "# Fit the vectorizer\n",
        "\n",
        "text_vectorizer.adapt(X_train)"
      ],
      "metadata": {
        "id": "OlV5z2xQvKBs"
      },
      "execution_count": 12,
      "outputs": []
    },
    {
      "cell_type": "code",
      "source": [
        "sentence = 'Hello, this is Mike here.'\n",
        "text_vectorizer([sentence])"
      ],
      "metadata": {
        "colab": {
          "base_uri": "https://localhost:8080/"
        },
        "id": "uaGF0Jq-vJ41",
        "outputId": "ba5aefea-c03c-4b6b-cc6e-ae97e5f5c5a1"
      },
      "execution_count": 13,
      "outputs": [
        {
          "output_type": "execute_result",
          "data": {
            "text/plain": [
              "<tf.Tensor: shape=(1, 15), dtype=int64, numpy=\n",
              "array([[1399,   19,    9, 2863,  127,    0,    0,    0,    0,    0,    0,\n",
              "           0,    0,    0,    0]])>"
            ]
          },
          "metadata": {},
          "execution_count": 13
        }
      ]
    },
    {
      "cell_type": "code",
      "source": [
        "# Take random sample from training set and check its encoding\n",
        "\n",
        "random_sentence = random.choice(X_train)\n",
        "\n",
        "print(f'Orignal Sentence: {random_sentence},  \\n\\n Its vector \\n')\n",
        "text_vectorizer([random_sentence])"
      ],
      "metadata": {
        "colab": {
          "base_uri": "https://localhost:8080/"
        },
        "id": "ZuX2Zz89wF3R",
        "outputId": "689709cb-52d8-4997-99ac-ff2b183693a6"
      },
      "execution_count": 14,
      "outputs": [
        {
          "output_type": "stream",
          "name": "stdout",
          "text": [
            "Orignal Sentence: Watch These Super Strong Magnets Destroy Everyday Objects: http://t.co/bTUs5jejuy http://t.co/zrTfxLuk6R,  \n",
            "\n",
            " Its vector \n",
            "\n"
          ]
        },
        {
          "output_type": "execute_result",
          "data": {
            "text/plain": [
              "<tf.Tensor: shape=(1, 15), dtype=int64, numpy=\n",
              "array([[ 124,  243, 1046, 1243,    1,  395, 2125, 4970,    1,    1,    0,\n",
              "           0,    0,    0,    0]])>"
            ]
          },
          "metadata": {},
          "execution_count": 14
        }
      ]
    },
    {
      "cell_type": "markdown",
      "source": [
        "Now lets look into the vocabulary learnt by the vectorizer."
      ],
      "metadata": {
        "id": "OI79R0w-w5z1"
      }
    },
    {
      "cell_type": "code",
      "source": [
        "vocab = text_vectorizer.get_vocabulary()\n",
        "print(f'Lenght of Vocab: {len(vocab)}')"
      ],
      "metadata": {
        "colab": {
          "base_uri": "https://localhost:8080/"
        },
        "id": "i2ANPIOdwtNe",
        "outputId": "8bb496bf-1a00-4269-a3d3-8d04e782c663"
      },
      "execution_count": 15,
      "outputs": [
        {
          "output_type": "stream",
          "name": "stdout",
          "text": [
            "Lenght of Vocab: 10000\n"
          ]
        }
      ]
    },
    {
      "cell_type": "code",
      "source": [
        "vocab[:10]\n"
      ],
      "metadata": {
        "colab": {
          "base_uri": "https://localhost:8080/"
        },
        "id": "wpzvq5JgxH9R",
        "outputId": "6f010b47-7971-464d-d6e2-408360d614cf"
      },
      "execution_count": 16,
      "outputs": [
        {
          "output_type": "execute_result",
          "data": {
            "text/plain": [
              "['', '[UNK]', 'the', 'a', 'in', 'to', 'of', 'and', 'i', 'is']"
            ]
          },
          "metadata": {},
          "execution_count": 16
        }
      ]
    },
    {
      "cell_type": "markdown",
      "source": [
        "#### Now lets create an Embedding "
      ],
      "metadata": {
        "id": "tiMEANXZxYlN"
      }
    },
    {
      "cell_type": "markdown",
      "source": [
        "Parameters:\n",
        "\n",
        "* input_dim - The size of the vocabulary (e.g. len(text_vectorizer.get_vocabulary()).\n",
        "\n",
        "* output_dim - The size of the output embedding vector, for example, a value of 100 outputs a feature vector of size 100 for each word.\n",
        "\n",
        "* embeddings_initializer - How to initialize the embeddings matrix, default is \"uniform\" which randomly initalizes embedding matrix with uniform distribution. This can be changed for using pre-learned embeddings.\n",
        "\n",
        "* input_length - Length of sequences being passed to embedding layer."
      ],
      "metadata": {
        "id": "WtRZ9LMjx4wb"
      }
    },
    {
      "cell_type": "code",
      "source": [
        "from tensorflow.keras.layers import Embedding\n",
        "\n",
        "embedding = Embedding(\n",
        "    input_dim = max_vocab_length,\n",
        "    output_dim=128,\n",
        "    embeddings_initializer = 'uniform',\n",
        "    input_length = max_length,\n",
        "    )\n",
        "\n",
        "embedding\n"
      ],
      "metadata": {
        "colab": {
          "base_uri": "https://localhost:8080/"
        },
        "id": "oB3YxQWuxL49",
        "outputId": "ff39c033-869c-4028-f350-0f43bff63042"
      },
      "execution_count": 17,
      "outputs": [
        {
          "output_type": "execute_result",
          "data": {
            "text/plain": [
              "<keras.layers.embeddings.Embedding at 0x7f7630087050>"
            ]
          },
          "metadata": {},
          "execution_count": 17
        }
      ]
    },
    {
      "cell_type": "code",
      "source": [
        "# Get a random sentence from training set\n",
        "random_sentence = random.choice(X_train)\n",
        "print(f\"Original text:\\n{random_sentence}\\\n",
        "      \\n\\nEmbedded version:\")\n",
        "\n",
        "# Embed the random sentence (turn it into numerical representation)\n",
        "sample_embed = embedding(text_vectorizer([random_sentence]))\n",
        "sample_embed"
      ],
      "metadata": {
        "colab": {
          "base_uri": "https://localhost:8080/"
        },
        "id": "fZNsJGcayiAq",
        "outputId": "3a362532-f41d-4961-e821-058a8b943adb"
      },
      "execution_count": 19,
      "outputs": [
        {
          "output_type": "stream",
          "name": "stdout",
          "text": [
            "Original text:\n",
            "Caution: breathing may be hazardous to your health.      \n",
            "\n",
            "Embedded version:\n"
          ]
        },
        {
          "output_type": "execute_result",
          "data": {
            "text/plain": [
              "<tf.Tensor: shape=(1, 15, 128), dtype=float32, numpy=\n",
              "array([[[ 0.02368047,  0.02212152,  0.01695193, ...,  0.0038694 ,\n",
              "          0.0137109 , -0.01221311],\n",
              "        [ 0.01559604, -0.03038614,  0.03176484, ..., -0.01332124,\n",
              "          0.01221111, -0.04033256],\n",
              "        [ 0.04174248,  0.02299744,  0.01197843, ..., -0.04220469,\n",
              "         -0.04006288, -0.01101909],\n",
              "        ...,\n",
              "        [-0.01924898, -0.03275981,  0.00189238, ...,  0.032512  ,\n",
              "          0.04362888,  0.04986384],\n",
              "        [-0.01924898, -0.03275981,  0.00189238, ...,  0.032512  ,\n",
              "          0.04362888,  0.04986384],\n",
              "        [-0.01924898, -0.03275981,  0.00189238, ...,  0.032512  ,\n",
              "          0.04362888,  0.04986384]]], dtype=float32)>"
            ]
          },
          "metadata": {},
          "execution_count": 19
        }
      ]
    },
    {
      "cell_type": "code",
      "source": [
        "sample_embed[0][0]"
      ],
      "metadata": {
        "colab": {
          "base_uri": "https://localhost:8080/"
        },
        "id": "F93QGba9yocG",
        "outputId": "3ebc8dc6-6485-48e6-a515-2c00be929548"
      },
      "execution_count": 20,
      "outputs": [
        {
          "output_type": "execute_result",
          "data": {
            "text/plain": [
              "<tf.Tensor: shape=(128,), dtype=float32, numpy=\n",
              "array([ 0.02368047,  0.02212152,  0.01695193, -0.01324014, -0.03806487,\n",
              "       -0.03944569, -0.02551633,  0.00624527, -0.01454023,  0.00041839,\n",
              "        0.04449448, -0.04635767,  0.01731772, -0.03178601, -0.04802544,\n",
              "        0.04737038, -0.04458218,  0.02657696,  0.01423254,  0.01847664,\n",
              "       -0.01917009,  0.01377728, -0.03261261, -0.03468885,  0.00809089,\n",
              "        0.0384428 ,  0.01744989,  0.00078041,  0.0173972 , -0.02570126,\n",
              "       -0.00190668,  0.0300581 , -0.03633239, -0.02949131,  0.00884156,\n",
              "       -0.0227263 ,  0.03756073,  0.0495033 ,  0.01726557,  0.00320145,\n",
              "        0.01646492,  0.02031453, -0.0437487 , -0.03619857,  0.03974657,\n",
              "       -0.04261002, -0.01583468, -0.00721173, -0.03823781, -0.00605717,\n",
              "       -0.03340901,  0.00979136,  0.00998411,  0.02398831,  0.04471369,\n",
              "       -0.01814926, -0.0323303 ,  0.04686016, -0.01792815,  0.04395572,\n",
              "        0.02262134,  0.04638979, -0.04395979,  0.02746535, -0.02651253,\n",
              "       -0.02151805,  0.01470191, -0.00657091, -0.01542735, -0.03634151,\n",
              "        0.00560298,  0.00157673, -0.03956557, -0.02954627, -0.00498127,\n",
              "        0.01018159, -0.03094488, -0.04421581, -0.02134812, -0.00189565,\n",
              "        0.02557464,  0.02678559,  0.01742028,  0.01340525,  0.03222287,\n",
              "       -0.00025119, -0.04543216, -0.00642658, -0.01081098, -0.02792634,\n",
              "        0.0358672 ,  0.02578213, -0.04504221, -0.02672217,  0.01893146,\n",
              "       -0.0116263 , -0.02858609,  0.02004731, -0.04952238,  0.03156122,\n",
              "       -0.02892561, -0.00707499, -0.00388291,  0.02744121,  0.03408412,\n",
              "       -0.04429488, -0.04897469, -0.00220918, -0.02658261, -0.00895361,\n",
              "        0.04740019, -0.04236771,  0.00074949, -0.04193104, -0.00437158,\n",
              "        0.02074772, -0.03533395, -0.01325635,  0.00706339,  0.00838373,\n",
              "       -0.02298114, -0.0446444 , -0.03385185,  0.0438043 ,  0.01378936,\n",
              "        0.0038694 ,  0.0137109 , -0.01221311], dtype=float32)>"
            ]
          },
          "metadata": {},
          "execution_count": 20
        }
      ]
    },
    {
      "cell_type": "markdown",
      "source": [
        "# Model Building:\n",
        "\n",
        "We are going to build different types of models on the text data."
      ],
      "metadata": {
        "id": "HtGVvfi4SK5O"
      }
    },
    {
      "cell_type": "markdown",
      "source": [
        "### TF-IDF\n",
        "\n",
        "Term Frequency Inverse document frequency, is a numerical statistic that is intended to reflect how important a word is to a document in a collection or corpus.\n",
        "\n",
        "So basically we convert our words to feature vectors which we'll use to build our model.\n",
        "\n",
        "Documentation:https://scikit-learn.org/stable/modules/feature_extraction.html#tfidf-term-weighting"
      ],
      "metadata": {
        "id": "n96x4U-iSdIH"
      }
    },
    {
      "cell_type": "code",
      "source": [
        "from sklearn.feature_extraction.text import TfidfVectorizer\n",
        "from sklearn.naive_bayes import MultinomialNB\n",
        "from sklearn.pipeline import Pipeline\n",
        "\n",
        "# Create tokenization and modelling pipeline\n",
        "model_0 = Pipeline([\n",
        "                    (\"tfidf\", TfidfVectorizer()), # convert words to numbers using tfidf\n",
        "                    (\"clf\", MultinomialNB()) # model the text\n",
        "])\n",
        "\n",
        "# Fit the pipeline to the training data\n",
        "model_0.fit(X_train, y_train)"
      ],
      "metadata": {
        "id": "mqJEfSrsy2TV",
        "colab": {
          "base_uri": "https://localhost:8080/"
        },
        "outputId": "2d7b2a24-9aa9-403b-c98c-e93033795113"
      },
      "execution_count": 21,
      "outputs": [
        {
          "output_type": "execute_result",
          "data": {
            "text/plain": [
              "Pipeline(steps=[('tfidf', TfidfVectorizer()), ('clf', MultinomialNB())])"
            ]
          },
          "metadata": {},
          "execution_count": 21
        }
      ]
    },
    {
      "cell_type": "code",
      "source": [
        "# accuracy\n",
        "\n",
        "model_0.score(X_val, y_val)"
      ],
      "metadata": {
        "colab": {
          "base_uri": "https://localhost:8080/"
        },
        "id": "TtvPpkGBTkVk",
        "outputId": "3e157dd6-a9dd-4a3e-840a-706cd9adbf7d"
      },
      "execution_count": 22,
      "outputs": [
        {
          "output_type": "execute_result",
          "data": {
            "text/plain": [
              "0.7782152230971129"
            ]
          },
          "metadata": {},
          "execution_count": 22
        }
      ]
    },
    {
      "cell_type": "markdown",
      "source": [
        "Accuracy is pretty good on test set.\n",
        "\n",
        "Let's build a helping function metrics calculation."
      ],
      "metadata": {
        "id": "VU_5puOhT0n-"
      }
    },
    {
      "cell_type": "code",
      "source": [
        "from sklearn.metrics import accuracy_score, classification_report\n",
        "\n",
        "def evaluate_model(y_train,y_pred_train,y_val,y_pred_val):\n",
        "  \n",
        "\n",
        "  print('Train accuracy: ',accuracy_score(y_train,y_pred_train))\n",
        "  print('--------------------------------------------------\\n')\n",
        "\n",
        "  print('Validation accuracy: ',accuracy_score(y_val, y_pred_val))\n",
        "  print('--------------------------------------------------\\n')\n",
        "\n",
        "  print(classification_report(y_val, y_pred_val))\n",
        "\n"
      ],
      "metadata": {
        "id": "3CZTEIk_Tzay"
      },
      "execution_count": 23,
      "outputs": []
    },
    {
      "cell_type": "code",
      "source": [
        "import matplotlib.pyplot as plt\n",
        "# Plot the validation and training data separately\n",
        "def plot_graphs(history):\n",
        "  \"\"\"\n",
        "  Returns separate loss curves for training and validation metrics.\n",
        "  \"\"\" \n",
        "  loss = history.history['loss']\n",
        "  val_loss = history.history['val_loss']\n",
        "\n",
        "  accuracy = history.history['accuracy']\n",
        "  val_accuracy = history.history['val_accuracy']\n",
        "\n",
        "  epochs = range(len(history.history['loss']))\n",
        "\n",
        "  # Plot loss\n",
        "  plt.plot(epochs, loss, label='training_loss')\n",
        "  plt.plot(epochs, val_loss, label='val_loss')\n",
        "  plt.title('Loss')\n",
        "  plt.xlabel('Epochs')\n",
        "  plt.legend()\n",
        "\n",
        "  # Plot accuracy\n",
        "  plt.figure()\n",
        "  plt.plot(epochs, accuracy, label='training_accuracy')\n",
        "  plt.plot(epochs, val_accuracy, label='val_accuracy')\n",
        "  plt.title('Accuracy')\n",
        "  plt.xlabel('Epochs')\n",
        "  plt.legend();"
      ],
      "metadata": {
        "id": "_LCiH_gsXZMz"
      },
      "execution_count": 24,
      "outputs": []
    },
    {
      "cell_type": "code",
      "source": [
        "y_pred_train = model_0.predict(X_train)\n",
        "y_pred_val = model_0.predict(X_val)\n",
        "\n",
        "evaluate_model(y_train,y_pred_train,y_val,y_pred_val)"
      ],
      "metadata": {
        "colab": {
          "base_uri": "https://localhost:8080/"
        },
        "id": "JxkAG4W4VFP6",
        "outputId": "214e7a7f-61fb-40d7-c6ab-25f231f26573"
      },
      "execution_count": 25,
      "outputs": [
        {
          "output_type": "stream",
          "name": "stdout",
          "text": [
            "Train accuracy:  0.8906728944679608\n",
            "--------------------------------------------------\n",
            "\n",
            "Validation accuracy:  0.7782152230971129\n",
            "--------------------------------------------------\n",
            "\n",
            "              precision    recall  f1-score   support\n",
            "\n",
            "           0       0.74      0.92      0.82       426\n",
            "           1       0.86      0.60      0.70       336\n",
            "\n",
            "    accuracy                           0.78       762\n",
            "   macro avg       0.80      0.76      0.76       762\n",
            "weighted avg       0.79      0.78      0.77       762\n",
            "\n"
          ]
        }
      ]
    },
    {
      "cell_type": "code",
      "source": [
        "from tensorflow.keras import layers\n",
        "\n",
        "\n",
        "inputs = layers.Input(shape=(1,), dtype=\"string\") # inputs are 1-dimensional strings\n",
        "x = text_vectorizer(inputs) # turn the input text into numbers\n",
        "x = embedding(x) # create an embedding of the numerized numbers\n",
        "x = layers.GlobalAveragePooling1D()(x) # lower the dimensionality of the embedding\n",
        "x = layers.Dense(10,activation='relu')(x)\n",
        "outputs = layers.Dense(1, activation=\"sigmoid\")(x) # create the output layer, want binary outputs so use sigmoid activation\n",
        "model_1 = tf.keras.Model(inputs, outputs, name=\"model_1_dense\") # construct the model"
      ],
      "metadata": {
        "id": "JSU5rmndVNUE"
      },
      "execution_count": 26,
      "outputs": []
    },
    {
      "cell_type": "code",
      "source": [
        "# Compile the Model\n",
        "\n",
        "model_1.compile(loss='binary_crossentropy', optimizer=tf.optimizers.Adam(), metrics=['accuracy'])"
      ],
      "metadata": {
        "id": "mVOCLpPGWFVe"
      },
      "execution_count": 27,
      "outputs": []
    },
    {
      "cell_type": "code",
      "source": [
        "model_1.summary()"
      ],
      "metadata": {
        "colab": {
          "base_uri": "https://localhost:8080/"
        },
        "id": "HpiDn3iIWeF6",
        "outputId": "608a55c2-d4f5-4c5d-926e-b1205ee0c41a"
      },
      "execution_count": 28,
      "outputs": [
        {
          "output_type": "stream",
          "name": "stdout",
          "text": [
            "Model: \"model_1_dense\"\n",
            "_________________________________________________________________\n",
            " Layer (type)                Output Shape              Param #   \n",
            "=================================================================\n",
            " input_1 (InputLayer)        [(None, 1)]               0         \n",
            "                                                                 \n",
            " text_vectorization (TextVec  (None, 15)               0         \n",
            " torization)                                                     \n",
            "                                                                 \n",
            " embedding (Embedding)       (None, 15, 128)           1280000   \n",
            "                                                                 \n",
            " global_average_pooling1d (G  (None, 128)              0         \n",
            " lobalAveragePooling1D)                                          \n",
            "                                                                 \n",
            " dense (Dense)               (None, 10)                1290      \n",
            "                                                                 \n",
            " dense_1 (Dense)             (None, 1)                 11        \n",
            "                                                                 \n",
            "=================================================================\n",
            "Total params: 1,281,301\n",
            "Trainable params: 1,281,301\n",
            "Non-trainable params: 0\n",
            "_________________________________________________________________\n"
          ]
        }
      ]
    },
    {
      "cell_type": "code",
      "source": [
        "hist_1 = model_1.fit(X_train, y_train, epochs=10, validation_data=(X_val,y_val))"
      ],
      "metadata": {
        "colab": {
          "base_uri": "https://localhost:8080/"
        },
        "id": "yTAmNrqaWfsl",
        "outputId": "e10f0540-13d3-4413-974a-0d96ade4eaf7"
      },
      "execution_count": 29,
      "outputs": [
        {
          "output_type": "stream",
          "name": "stdout",
          "text": [
            "Epoch 1/10\n",
            "215/215 [==============================] - 5s 5ms/step - loss: 0.5863 - accuracy: 0.7095 - val_loss: 0.5049 - val_accuracy: 0.7966\n",
            "Epoch 2/10\n",
            "215/215 [==============================] - 1s 4ms/step - loss: 0.3683 - accuracy: 0.8501 - val_loss: 0.4835 - val_accuracy: 0.7927\n",
            "Epoch 3/10\n",
            "215/215 [==============================] - 1s 4ms/step - loss: 0.2568 - accuracy: 0.9010 - val_loss: 0.5319 - val_accuracy: 0.7730\n",
            "Epoch 4/10\n",
            "215/215 [==============================] - 1s 4ms/step - loss: 0.1873 - accuracy: 0.9307 - val_loss: 0.6050 - val_accuracy: 0.7625\n",
            "Epoch 5/10\n",
            "215/215 [==============================] - 1s 4ms/step - loss: 0.1441 - accuracy: 0.9473 - val_loss: 0.6673 - val_accuracy: 0.7546\n",
            "Epoch 6/10\n",
            "215/215 [==============================] - 1s 4ms/step - loss: 0.1161 - accuracy: 0.9609 - val_loss: 0.7422 - val_accuracy: 0.7598\n",
            "Epoch 7/10\n",
            "215/215 [==============================] - 1s 5ms/step - loss: 0.0965 - accuracy: 0.9660 - val_loss: 0.8063 - val_accuracy: 0.7507\n",
            "Epoch 8/10\n",
            "215/215 [==============================] - 2s 8ms/step - loss: 0.0852 - accuracy: 0.9685 - val_loss: 0.8573 - val_accuracy: 0.7493\n",
            "Epoch 9/10\n",
            "215/215 [==============================] - 2s 7ms/step - loss: 0.0745 - accuracy: 0.9727 - val_loss: 0.9262 - val_accuracy: 0.7415\n",
            "Epoch 10/10\n",
            "215/215 [==============================] - 2s 8ms/step - loss: 0.0664 - accuracy: 0.9752 - val_loss: 0.9852 - val_accuracy: 0.7402\n"
          ]
        }
      ]
    },
    {
      "cell_type": "code",
      "source": [
        "plot_graphs(hist_1)"
      ],
      "metadata": {
        "colab": {
          "base_uri": "https://localhost:8080/",
          "height": 573
        },
        "id": "LGWjmpaoX6HF",
        "outputId": "112bca50-ae3c-4a41-a7f8-64f95a545d0b"
      },
      "execution_count": 30,
      "outputs": [
        {
          "output_type": "display_data",
          "data": {
            "text/plain": [
              "<Figure size 432x288 with 1 Axes>"
            ],
            "image/png": "[encoded data removed]"
          },
          "metadata": {
            "needs_background": "light"
          }
        },
        {
          "output_type": "display_data",
          "data": {
            "text/plain": [
              "<Figure size 432x288 with 1 Axes>"
            ],
            "image/png": "[encoded data removed]"
          },
          "metadata": {
            "needs_background": "light"
          }
        }
      ]
    },
    {
      "cell_type": "markdown",
      "source": [
        "Accuracy seems ok so could we make the hypothesis that our model is good? Nope you have to analyze both the graphs Loss and Accuracy. You can see that accuracy of our model is good but the losses are not, Both Validation and Traning loss have very high difference so what we could conclude from this?\n",
        "\n",
        "Actually our model is overfitting on training data, In error analysis we have to look all the metrics that are necessary from which we could judge the model performance.\n",
        "\n"
      ],
      "metadata": {
        "id": "R6nLMxF3Ydrs"
      }
    },
    {
      "cell_type": "code",
      "source": [
        "model_1_y_pred = model_1.predict(X_val)"
      ],
      "metadata": {
        "id": "rrEdCAypYNvQ"
      },
      "execution_count": 31,
      "outputs": []
    },
    {
      "cell_type": "code",
      "source": [
        "model_1_y_pred[:10]"
      ],
      "metadata": {
        "colab": {
          "base_uri": "https://localhost:8080/"
        },
        "id": "MeZS4VAeaKOR",
        "outputId": "bc8bc316-a41e-4ee5-f0a5-6e31988c2b78"
      },
      "execution_count": 32,
      "outputs": [
        {
          "output_type": "execute_result",
          "data": {
            "text/plain": [
              "array([[9.82525991e-04],\n",
              "       [3.64195034e-02],\n",
              "       [1.68646127e-02],\n",
              "       [3.40391824e-04],\n",
              "       [8.87781680e-01],\n",
              "       [1.18760355e-01],\n",
              "       [6.30824297e-06],\n",
              "       [3.20012033e-01],\n",
              "       [3.83967049e-02],\n",
              "       [9.98449326e-01]], dtype=float32)"
            ]
          },
          "metadata": {},
          "execution_count": 32
        }
      ]
    },
    {
      "cell_type": "code",
      "source": [
        "model_1_pred = tf.squeeze(tf.round(model_1_y_pred))"
      ],
      "metadata": {
        "id": "go1I55Y1aOUo"
      },
      "execution_count": 33,
      "outputs": []
    },
    {
      "cell_type": "code",
      "source": [
        "model_1_pred[:10]"
      ],
      "metadata": {
        "colab": {
          "base_uri": "https://localhost:8080/"
        },
        "id": "4r8bZIgUaWVN",
        "outputId": "5af6792f-b673-4293-80ab-a4c4e2798fae"
      },
      "execution_count": 34,
      "outputs": [
        {
          "output_type": "execute_result",
          "data": {
            "text/plain": [
              "<tf.Tensor: shape=(10,), dtype=float32, numpy=array([0., 0., 0., 0., 1., 0., 0., 0., 0., 1.], dtype=float32)>"
            ]
          },
          "metadata": {},
          "execution_count": 34
        }
      ]
    },
    {
      "cell_type": "code",
      "source": [
        "# Evaluate Model\n",
        "\n",
        "y_pred_train = tf.squeeze(tf.round(model_1.predict(X_train)))\n",
        "y_pred_val = tf.squeeze(tf.round(model_1.predict(X_val)))\n",
        "\n",
        "evaluate_model(y_train,y_pred_train,y_val,y_pred_val)"
      ],
      "metadata": {
        "colab": {
          "base_uri": "https://localhost:8080/"
        },
        "id": "XHZkgQXu1DKe",
        "outputId": "c332513b-d7a5-4473-e651-aac8d7f30838"
      },
      "execution_count": 35,
      "outputs": [
        {
          "output_type": "stream",
          "name": "stdout",
          "text": [
            "Train accuracy:  0.9795650270033571\n",
            "--------------------------------------------------\n",
            "\n",
            "Validation accuracy:  0.7401574803149606\n",
            "--------------------------------------------------\n",
            "\n",
            "              precision    recall  f1-score   support\n",
            "\n",
            "           0       0.77      0.77      0.77       426\n",
            "           1       0.71      0.70      0.70       336\n",
            "\n",
            "    accuracy                           0.74       762\n",
            "   macro avg       0.74      0.74      0.74       762\n",
            "weighted avg       0.74      0.74      0.74       762\n",
            "\n"
          ]
        }
      ]
    },
    {
      "cell_type": "code",
      "source": [
        "# Get the vocabulary from the text vectorization layer\n",
        "words_in_vocab = text_vectorizer.get_vocabulary()\n",
        "len(words_in_vocab), words_in_vocab[:10]"
      ],
      "metadata": {
        "colab": {
          "base_uri": "https://localhost:8080/"
        },
        "id": "UkaS3cM42EKf",
        "outputId": "acd6f0bc-90e0-4608-bd17-763bf0663024"
      },
      "execution_count": 36,
      "outputs": [
        {
          "output_type": "execute_result",
          "data": {
            "text/plain": [
              "(10000, ['', '[UNK]', 'the', 'a', 'in', 'to', 'of', 'and', 'i', 'is'])"
            ]
          },
          "metadata": {},
          "execution_count": 36
        }
      ]
    },
    {
      "cell_type": "code",
      "source": [
        "# Get the weight matrix of embedding layer \n",
        "# (these are the numerical patterns between the text in the training dataset the model has learned)\n",
        "\n",
        "embed_weights = model_1.get_layer(\"embedding\").get_weights()[0]\n",
        "print(embed_weights.shape) # same size as vocab size and embedding_dim (each word is a embedding_dim size vector)"
      ],
      "metadata": {
        "colab": {
          "base_uri": "https://localhost:8080/"
        },
        "id": "SOX8QAHv2nKF",
        "outputId": "29aac656-affc-4bf6-a381-f68a7521d923"
      },
      "execution_count": 37,
      "outputs": [
        {
          "output_type": "stream",
          "name": "stdout",
          "text": [
            "(10000, 128)\n"
          ]
        }
      ]
    },
    {
      "cell_type": "code",
      "source": [
        "embed_weights[0]"
      ],
      "metadata": {
        "colab": {
          "base_uri": "https://localhost:8080/"
        },
        "id": "BIfnnjsR2o8Q",
        "outputId": "746b127f-a267-434c-bc7f-19d0c2bb50e9"
      },
      "execution_count": 38,
      "outputs": [
        {
          "output_type": "execute_result",
          "data": {
            "text/plain": [
              "array([-4.78967139e-03, -2.08142959e-02, -3.30095142e-02, -6.08784333e-02,\n",
              "       -7.98664093e-02, -7.52688050e-02,  1.76426828e-01,  8.68976638e-02,\n",
              "       -5.09819351e-02,  1.08508356e-02, -6.37013791e-03,  2.46281195e-02,\n",
              "        5.30128367e-02, -4.64517176e-02,  1.89938247e-02, -4.69011515e-02,\n",
              "       -5.39387576e-02, -1.38751529e-02,  2.56403033e-02,  1.30673572e-02,\n",
              "       -7.13746995e-03, -5.17504588e-02, -2.02710070e-02,  1.74242246e-04,\n",
              "       -5.27221262e-02, -7.94508867e-03, -1.60773769e-01,  1.71489473e-02,\n",
              "        3.23940367e-02,  6.77889679e-03,  1.88816804e-03,  9.24954098e-03,\n",
              "        1.47494432e-02,  5.25141619e-02,  1.66133400e-02, -1.91623140e-02,\n",
              "        8.62878934e-03, -1.97028276e-03, -7.31159523e-02, -7.47035891e-02,\n",
              "        5.88158099e-03, -7.71418065e-02,  1.90838706e-02, -6.27403939e-03,\n",
              "        1.99087313e-03,  1.94610059e-02,  6.83535764e-04,  4.81014065e-02,\n",
              "       -4.89533730e-02,  5.35230478e-03, -8.33480358e-02,  1.86461180e-01,\n",
              "       -1.48782097e-02,  6.09770592e-04, -1.17520839e-01, -5.87141439e-02,\n",
              "       -9.34929997e-02, -6.49069250e-03,  1.58796236e-02,  2.43655909e-02,\n",
              "        1.50699429e-02,  7.67342374e-03,  3.46461311e-02,  1.12435361e-02,\n",
              "       -2.52578966e-02,  7.01912642e-02,  6.00979552e-02,  2.79572736e-02,\n",
              "        1.36679947e-01,  2.85959691e-02, -3.28183509e-02,  5.87623902e-02,\n",
              "       -1.15466807e-02, -9.72806662e-03,  1.32599128e-02,  1.04263378e-02,\n",
              "        1.04233623e-01, -7.76619092e-02, -2.47047711e-02, -6.42250478e-02,\n",
              "       -3.36222686e-02,  8.68237019e-02,  1.57834589e-01,  5.69099523e-02,\n",
              "       -4.13078591e-02,  4.79138903e-02, -1.25749735e-02, -9.85240843e-03,\n",
              "       -4.83533321e-03,  6.83438256e-02, -7.82447681e-03, -3.52386795e-02,\n",
              "        1.30183101e-01, -3.27124037e-02,  2.72724312e-02, -4.08905037e-02,\n",
              "        1.74375862e-01,  5.06884456e-02,  6.80405600e-03, -2.40896009e-02,\n",
              "       -5.30333370e-02, -1.25829428e-01,  2.94542145e-02,  8.66304040e-02,\n",
              "       -3.21267806e-02,  4.97641833e-03,  8.01833440e-03, -9.98844951e-03,\n",
              "        5.68317808e-02,  1.73191391e-02, -4.40262444e-02, -1.36666805e-01,\n",
              "        1.57448620e-01, -5.21476492e-02, -3.54688577e-02,  1.06180973e-01,\n",
              "        4.12952490e-02,  9.32040438e-02,  4.37904783e-02, -1.19119287e-01,\n",
              "       -3.73299085e-02,  3.20640355e-02, -2.59089079e-02, -2.36577466e-02,\n",
              "        1.27740176e-02,  6.72140792e-02,  6.69026398e-04,  1.94164172e-01],\n",
              "      dtype=float32)"
            ]
          },
          "metadata": {},
          "execution_count": 38
        }
      ]
    },
    {
      "cell_type": "markdown",
      "source": [
        "We can visualize these Embeddings through a Embedding Vector Tool of TensorFlow. First create files for Embedding using the code given below."
      ],
      "metadata": {
        "id": "5FCHMkzL34No"
      }
    },
    {
      "cell_type": "code",
      "source": [
        "# Code below is adapted from: https://www.tensorflow.org/tutorials/text/word_embeddings#retrieve_the_trained_word_embeddings_and_save_them_to_disk\n",
        "import io\n",
        "\n",
        "# Create output writers\n",
        "out_v = io.open(\"embedding_vectors.tsv\", \"w\", encoding=\"utf-8\")\n",
        "out_m = io.open(\"embedding_metadata.tsv\", \"w\", encoding=\"utf-8\")\n",
        "\n",
        "# Write embedding vectors and words to file\n",
        "for num, word in enumerate(words_in_vocab):\n",
        "  if num == 0: \n",
        "     continue # skip padding token\n",
        "  vec = embed_weights[num]\n",
        "  out_m.write(word + \"\\n\") # write words to file\n",
        "  out_v.write(\"\\t\".join([str(x) for x in vec]) + \"\\n\") # write corresponding word vector to file\n",
        "out_v.close()\n",
        "out_m.close()\n",
        "\n",
        "# Download files locally to upload to Embedding Projector\n",
        "try:\n",
        "  from google.colab import files\n",
        "except ImportError:\n",
        "  pass\n",
        "else:\n",
        "  files.download(\"embedding_vectors.tsv\")\n",
        "  files.download(\"embedding_metadata.tsv\")"
      ],
      "metadata": {
        "colab": {
          "base_uri": "https://localhost:8080/",
          "height": 17
        },
        "id": "G22qmzfV3A_F",
        "outputId": "e2c489e1-4704-404b-ad35-2fb6788acc8e"
      },
      "execution_count": 39,
      "outputs": [
        {
          "output_type": "display_data",
          "data": {
            "text/plain": [
              "<IPython.core.display.Javascript object>"
            ],
            "application/javascript": [
              "\n",
              "    async function download(id, filename, size) {\n",
              "      if (!google.colab.kernel.accessAllowed) {\n",
              "        return;\n",
              "      }\n",
              "      const div = document.createElement('div');\n",
              "      const label = document.createElement('label');\n",
              "      label.textContent = `Downloading \"${filename}\": `;\n",
              "      div.appendChild(label);\n",
              "      const progress = document.createElement('progress');\n",
              "      progress.max = size;\n",
              "      div.appendChild(progress);\n",
              "      document.body.appendChild(div);\n",
              "\n",
              "      const buffers = [];\n",
              "      let downloaded = 0;\n",
              "\n",
              "      const channel = await google.colab.kernel.comms.open(id);\n",
              "      // Send a message to notify the kernel that we're ready.\n",
              "      channel.send({})\n",
              "\n",
              "      for await (const message of channel.messages) {\n",
              "        // Send a message to notify the kernel that we're ready.\n",
              "        channel.send({})\n",
              "        if (message.buffers) {\n",
              "          for (const buffer of message.buffers) {\n",
              "            buffers.push(buffer);\n",
              "            downloaded += buffer.byteLength;\n",
              "            progress.value = downloaded;\n",
              "          }\n",
              "        }\n",
              "      }\n",
              "      const blob = new Blob(buffers, {type: 'application/binary'});\n",
              "      const a = document.createElement('a');\n",
              "      a.href = window.URL.createObjectURL(blob);\n",
              "      a.download = filename;\n",
              "      div.appendChild(a);\n",
              "      a.click();\n",
              "      div.remove();\n",
              "    }\n",
              "  "
            ]
          },
          "metadata": {}
        },
        {
          "output_type": "display_data",
          "data": {
            "text/plain": [
              "<IPython.core.display.Javascript object>"
            ],
            "application/javascript": [
              "download(\"download_46ffb2fc-60a6-4a62-a8e1-0c4309fed473\", \"embedding_vectors.tsv\", 15442220)"
            ]
          },
          "metadata": {}
        },
        {
          "output_type": "display_data",
          "data": {
            "text/plain": [
              "<IPython.core.display.Javascript object>"
            ],
            "application/javascript": [
              "\n",
              "    async function download(id, filename, size) {\n",
              "      if (!google.colab.kernel.accessAllowed) {\n",
              "        return;\n",
              "      }\n",
              "      const div = document.createElement('div');\n",
              "      const label = document.createElement('label');\n",
              "      label.textContent = `Downloading \"${filename}\": `;\n",
              "      div.appendChild(label);\n",
              "      const progress = document.createElement('progress');\n",
              "      progress.max = size;\n",
              "      div.appendChild(progress);\n",
              "      document.body.appendChild(div);\n",
              "\n",
              "      const buffers = [];\n",
              "      let downloaded = 0;\n",
              "\n",
              "      const channel = await google.colab.kernel.comms.open(id);\n",
              "      // Send a message to notify the kernel that we're ready.\n",
              "      channel.send({})\n",
              "\n",
              "      for await (const message of channel.messages) {\n",
              "        // Send a message to notify the kernel that we're ready.\n",
              "        channel.send({})\n",
              "        if (message.buffers) {\n",
              "          for (const buffer of message.buffers) {\n",
              "            buffers.push(buffer);\n",
              "            downloaded += buffer.byteLength;\n",
              "            progress.value = downloaded;\n",
              "          }\n",
              "        }\n",
              "      }\n",
              "      const blob = new Blob(buffers, {type: 'application/binary'});\n",
              "      const a = document.createElement('a');\n",
              "      a.href = window.URL.createObjectURL(blob);\n",
              "      a.download = filename;\n",
              "      div.appendChild(a);\n",
              "      a.click();\n",
              "      div.remove();\n",
              "    }\n",
              "  "
            ]
          },
          "metadata": {}
        },
        {
          "output_type": "display_data",
          "data": {
            "text/plain": [
              "<IPython.core.display.Javascript object>"
            ],
            "application/javascript": [
              "download(\"download_9e63a068-ec22-4cf6-bbcc-275738f84220\", \"embedding_metadata.tsv\", 80463)"
            ]
          },
          "metadata": {}
        }
      ]
    },
    {
      "cell_type": "markdown",
      "source": [
        "After Creating and download the files follow these steps:\n",
        "\n",
        "\n",
        "1. Go to http://projector.tensorflow.org/\n",
        "\n",
        "2. Click on \"Load data\"\n",
        "\n",
        "3. Upload the two files you downloaded (embedding_vectors.tsv and embedding_metadata.tsv)\n",
        "\n",
        "4. Explore\n",
        "Optional: You can share the data you've created by clicking \"Publish\""
      ],
      "metadata": {
        "id": "SISHO3D04Wu6"
      }
    },
    {
      "cell_type": "markdown",
      "source": [
        "![image.png](data:image/png;base64,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)"
      ],
      "metadata": {
        "id": "ct96cdDB4rlo"
      }
    },
    {
      "cell_type": "markdown",
      "source": [
        "# RNN (Recurrent Neural Networks)\n",
        "\n",
        "A recurrent neural network (RNN) is a special type of an artificial neural network adapted to work for time series data or data that involves sequences.\n",
        "\n",
        "## Architecture:\n",
        "\n",
        "![image.png](data:image/png;base64,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)"
      ],
      "metadata": {
        "id": "qiscsQFi4xVR"
      }
    },
    {
      "cell_type": "markdown",
      "source": [
        "Types of Problems RNN addresses\n",
        "\n",
        "1. One to one: one input, one output, such as image classification.\n",
        "\n",
        "2. One to many: one input, many outputs, such as image captioning (image input, a sequence of text as caption output).\n",
        "\n",
        "3. Many to one: many inputs, one outputs, such as text classification (classifying a Tweet as real diaster or not real diaster).\n",
        "\n",
        "4. Many to many: many inputs, many outputs, such as machine translation (translating English to Spanish) or speech to text (audio wave as input, text as output)."
      ],
      "metadata": {
        "id": "AOuiQgwn5lst"
      }
    },
    {
      "cell_type": "markdown",
      "source": [
        "### Flavours of RNN:\n",
        "\n",
        "1. Long short-term memory cells (LSTMs).\n",
        "\n",
        "2. Gated recurrent units (GRUs).\n",
        "\n",
        "3. Bidirectional RNN's (passes forward and backward along a sequence, left to right and right to left)."
      ],
      "metadata": {
        "id": "AxQlM8OT5xyN"
      }
    },
    {
      "cell_type": "markdown",
      "source": [
        "\n",
        "\n",
        "> Resources:\n",
        "\n",
        "1. https://stanford.edu/~shervine/teaching/cs-230/cheatsheet-recurrent-neural-networks\n",
        "\n",
        "2. [MIT Deep Learning RNN](https://www.youtube.com/watch?v=SEnXr6v2ifU)\n"
      ],
      "metadata": {
        "id": "b47qAosr5_Gl"
      }
    },
    {
      "cell_type": "markdown",
      "source": [
        "## Model_2 LSTM"
      ],
      "metadata": {
        "id": "sein9tbM6TIN"
      }
    },
    {
      "cell_type": "code",
      "source": [
        "from tensorflow.keras import layers\n",
        "\n",
        "embedding_2 = layers.Embedding(input_dim=max_vocab_length,\n",
        "                                     output_dim=128,\n",
        "                                     embeddings_initializer=\"uniform\",\n",
        "                                     input_length=max_length,\n",
        "                                     name=\"embedding_2\")\n",
        "\n",
        "# Create LSTM Model\n",
        "inputs = layers.Input(shape=(1,), dtype='string')\n",
        "x = text_vectorizer(inputs)\n",
        "\n",
        "# embedding layer\n",
        "x = embedding_2(x)\n",
        "# LSTM layer\n",
        "x= layers.LSTM(64)(x)\n",
        "\n",
        "x= layers.Dense(32,activation='relu')(x)\n",
        "outputs = layers.Dense(1,activation='sigmoid')(x)\n",
        "model_2 = tf.keras.Model(inputs, outputs)\n"
      ],
      "metadata": {
        "id": "DaBV6U7t3FVS"
      },
      "execution_count": 40,
      "outputs": []
    },
    {
      "cell_type": "code",
      "source": [
        "# Compile model\n",
        "model_2.compile(loss=\"binary_crossentropy\",\n",
        "                optimizer=tf.keras.optimizers.Adam(),\n",
        "                metrics=[\"accuracy\"])"
      ],
      "metadata": {
        "id": "Wb5yRpEf7sD-"
      },
      "execution_count": 41,
      "outputs": []
    },
    {
      "cell_type": "code",
      "source": [
        "model_2.summary()"
      ],
      "metadata": {
        "colab": {
          "base_uri": "https://localhost:8080/"
        },
        "id": "HXEu-ua_7uEH",
        "outputId": "ecdb9311-6c2f-4043-ad15-db6e702791b1"
      },
      "execution_count": 42,
      "outputs": [
        {
          "output_type": "stream",
          "name": "stdout",
          "text": [
            "Model: \"model\"\n",
            "_________________________________________________________________\n",
            " Layer (type)                Output Shape              Param #   \n",
            "=================================================================\n",
            " input_2 (InputLayer)        [(None, 1)]               0         \n",
            "                                                                 \n",
            " text_vectorization (TextVec  (None, 15)               0         \n",
            " torization)                                                     \n",
            "                                                                 \n",
            " embedding_2 (Embedding)     (None, 15, 128)           1280000   \n",
            "                                                                 \n",
            " lstm (LSTM)                 (None, 64)                49408     \n",
            "                                                                 \n",
            " dense_2 (Dense)             (None, 32)                2080      \n",
            "                                                                 \n",
            " dense_3 (Dense)             (None, 1)                 33        \n",
            "                                                                 \n",
            "=================================================================\n",
            "Total params: 1,331,521\n",
            "Trainable params: 1,331,521\n",
            "Non-trainable params: 0\n",
            "_________________________________________________________________\n"
          ]
        }
      ]
    },
    {
      "cell_type": "code",
      "source": [
        "hist_2 =  model_2.fit(X_train,\n",
        "                      y_train,\n",
        "                      epochs=10,\n",
        "                      validation_data=(X_val, y_val))"
      ],
      "metadata": {
        "colab": {
          "base_uri": "https://localhost:8080/"
        },
        "id": "XnbCZGO270kH",
        "outputId": "de3a5b67-5fa0-41b9-9845-b9a686d685dc"
      },
      "execution_count": 43,
      "outputs": [
        {
          "output_type": "stream",
          "name": "stdout",
          "text": [
            "Epoch 1/10\n",
            "215/215 [==============================] - 6s 8ms/step - loss: 0.5119 - accuracy: 0.7476 - val_loss: 0.4797 - val_accuracy: 0.7927\n",
            "Epoch 2/10\n",
            "215/215 [==============================] - 1s 6ms/step - loss: 0.3148 - accuracy: 0.8723 - val_loss: 0.5015 - val_accuracy: 0.7690\n",
            "Epoch 3/10\n",
            "215/215 [==============================] - 1s 6ms/step - loss: 0.2069 - accuracy: 0.9180 - val_loss: 0.6622 - val_accuracy: 0.7507\n",
            "Epoch 4/10\n",
            "215/215 [==============================] - 1s 7ms/step - loss: 0.1345 - accuracy: 0.9472 - val_loss: 0.8632 - val_accuracy: 0.7441\n",
            "Epoch 5/10\n",
            "215/215 [==============================] - 1s 7ms/step - loss: 0.1006 - accuracy: 0.9578 - val_loss: 0.7903 - val_accuracy: 0.7572\n",
            "Epoch 6/10\n",
            "215/215 [==============================] - 1s 7ms/step - loss: 0.0805 - accuracy: 0.9632 - val_loss: 1.2772 - val_accuracy: 0.7323\n",
            "Epoch 7/10\n",
            "215/215 [==============================] - 1s 6ms/step - loss: 0.0688 - accuracy: 0.9692 - val_loss: 1.2135 - val_accuracy: 0.7441\n",
            "Epoch 8/10\n",
            "215/215 [==============================] - 1s 7ms/step - loss: 0.0600 - accuracy: 0.9715 - val_loss: 1.1986 - val_accuracy: 0.7441\n",
            "Epoch 9/10\n",
            "215/215 [==============================] - 1s 6ms/step - loss: 0.0529 - accuracy: 0.9765 - val_loss: 1.3366 - val_accuracy: 0.7152\n",
            "Epoch 10/10\n",
            "215/215 [==============================] - 2s 9ms/step - loss: 0.0421 - accuracy: 0.9784 - val_loss: 1.3725 - val_accuracy: 0.7572\n"
          ]
        }
      ]
    },
    {
      "cell_type": "code",
      "source": [
        "# Evaluate Model\n",
        "\n",
        "y_pred_train = tf.squeeze(tf.round(model_2.predict(X_train)))\n",
        "y_pred_val = tf.squeeze(tf.round(model_2.predict(X_val)))\n",
        "\n",
        "evaluate_model(y_train,y_pred_train,y_val,y_pred_val)"
      ],
      "metadata": {
        "colab": {
          "base_uri": "https://localhost:8080/"
        },
        "id": "LqBt5N5V7vtr",
        "outputId": "ae16ba13-7704-4797-ec66-285bf9853201"
      },
      "execution_count": 44,
      "outputs": [
        {
          "output_type": "stream",
          "name": "stdout",
          "text": [
            "Train accuracy:  0.9814625602101883\n",
            "--------------------------------------------------\n",
            "\n",
            "Validation accuracy:  0.7572178477690289\n",
            "--------------------------------------------------\n",
            "\n",
            "              precision    recall  f1-score   support\n",
            "\n",
            "           0       0.75      0.84      0.79       426\n",
            "           1       0.76      0.65      0.70       336\n",
            "\n",
            "    accuracy                           0.76       762\n",
            "   macro avg       0.76      0.75      0.75       762\n",
            "weighted avg       0.76      0.76      0.75       762\n",
            "\n"
          ]
        }
      ]
    },
    {
      "cell_type": "code",
      "source": [
        "plot_graphs(hist_2)"
      ],
      "metadata": {
        "colab": {
          "base_uri": "https://localhost:8080/",
          "height": 573
        },
        "id": "7Boz2wVz8Kdn",
        "outputId": "6ccf5b6d-5882-41f6-fffe-a2a300c43652"
      },
      "execution_count": 45,
      "outputs": [
        {
          "output_type": "display_data",
          "data": {
            "text/plain": [
              "<Figure size 432x288 with 1 Axes>"
            ],
            "image/png": "[encoded data removed]"
          },
          "metadata": {
            "needs_background": "light"
          }
        },
        {
          "output_type": "display_data",
          "data": {
            "text/plain": [
              "<Figure size 432x288 with 1 Axes>"
            ],
            "image/png": "[encoded data removed]"
          },
          "metadata": {
            "needs_background": "light"
          }
        }
      ]
    },
    {
      "cell_type": "markdown",
      "source": [
        "## Model 3 (GRU)"
      ],
      "metadata": {
        "id": "YEJPvSCfBn3b"
      }
    },
    {
      "cell_type": "markdown",
      "source": [
        "A gated recurrent unit (GRU) is a gating mechanism in recurrent neural networks (RNN) similar to a long short-term memory (LSTM) unit but without an output gate. GRU’s try to solve the vanishing gradient problem that can come with standard recurrent neural networks. A GRU can be considered a variation of the long short-term memory (LSTM) unit because both have a similar design and produce equal results in some cases. "
      ],
      "metadata": {
        "id": "3BVx04i3BupO"
      }
    },
    {
      "cell_type": "markdown",
      "source": [
        "\n",
        "\n",
        "> Resources:\n",
        "\n",
        "https://towardsdatascience.com/understanding-gru-networks-2ef37df6c9be\n",
        "\n",
        "https://www.analyticsvidhya.com/blog/2021/03/introduction-to-gated-recurrent-unit-gru/\n",
        "\n"
      ],
      "metadata": {
        "id": "v6IdI0BGCfpS"
      }
    },
    {
      "cell_type": "markdown",
      "source": [
        "Implementation"
      ],
      "metadata": {
        "id": "EFQ3CcrSCZV-"
      }
    },
    {
      "cell_type": "code",
      "source": [
        "embedding_3 = layers.Embedding(input_dim=max_vocab_length,\n",
        "                                     output_dim=128,\n",
        "                                     embeddings_initializer=\"uniform\",\n",
        "                                     input_length=max_length,\n",
        "                                     name=\"embedding_3\")\n",
        "\n",
        "# Build an RNN using the GRU cell\n",
        "inputs = layers.Input(shape=(1,), dtype=\"string\")\n",
        "x = text_vectorizer(inputs)\n",
        "x = embedding_3(x)\n",
        "\n",
        "x = layers.GRU(64)(x) \n",
        "x = layers.Dense(64, activation=\"relu\")(x) \n",
        "outputs = layers.Dense(1, activation=\"sigmoid\")(x)\n",
        "model_3 = tf.keras.Model(inputs, outputs, name=\"model_3_GRU\")"
      ],
      "metadata": {
        "id": "QzW6-fRE8V9K"
      },
      "execution_count": 46,
      "outputs": []
    },
    {
      "cell_type": "code",
      "source": [
        "# Compile GRU model\n",
        "model_3.compile(loss=\"binary_crossentropy\",\n",
        "                optimizer=tf.keras.optimizers.Adam(),\n",
        "                metrics=[\"accuracy\"])"
      ],
      "metadata": {
        "id": "RFZydZ-qCbG_"
      },
      "execution_count": 47,
      "outputs": []
    },
    {
      "cell_type": "code",
      "source": [
        "model_3.summary()"
      ],
      "metadata": {
        "colab": {
          "base_uri": "https://localhost:8080/"
        },
        "id": "2m3UHC6xC_Xc",
        "outputId": "5b794326-5831-4597-f565-5cc040dd5ddc"
      },
      "execution_count": 48,
      "outputs": [
        {
          "output_type": "stream",
          "name": "stdout",
          "text": [
            "Model: \"model_3_GRU\"\n",
            "_________________________________________________________________\n",
            " Layer (type)                Output Shape              Param #   \n",
            "=================================================================\n",
            " input_3 (InputLayer)        [(None, 1)]               0         \n",
            "                                                                 \n",
            " text_vectorization (TextVec  (None, 15)               0         \n",
            " torization)                                                     \n",
            "                                                                 \n",
            " embedding_3 (Embedding)     (None, 15, 128)           1280000   \n",
            "                                                                 \n",
            " gru (GRU)                   (None, 64)                37248     \n",
            "                                                                 \n",
            " dense_4 (Dense)             (None, 64)                4160      \n",
            "                                                                 \n",
            " dense_5 (Dense)             (None, 1)                 65        \n",
            "                                                                 \n",
            "=================================================================\n",
            "Total params: 1,321,473\n",
            "Trainable params: 1,321,473\n",
            "Non-trainable params: 0\n",
            "_________________________________________________________________\n"
          ]
        }
      ]
    },
    {
      "cell_type": "code",
      "source": [
        "hist_3 = model_3.fit(X_train,y_train, epochs=10, validation_data=(X_val,y_val))"
      ],
      "metadata": {
        "colab": {
          "base_uri": "https://localhost:8080/"
        },
        "id": "uJpk4oSxDAl9",
        "outputId": "8d007b1e-3d76-4be7-fc45-ddceeba39cde"
      },
      "execution_count": 49,
      "outputs": [
        {
          "output_type": "stream",
          "name": "stdout",
          "text": [
            "Epoch 1/10\n",
            "215/215 [==============================] - 4s 8ms/step - loss: 0.5268 - accuracy: 0.7287 - val_loss: 0.4642 - val_accuracy: 0.7900\n",
            "Epoch 2/10\n",
            "215/215 [==============================] - 1s 6ms/step - loss: 0.3172 - accuracy: 0.8694 - val_loss: 0.5032 - val_accuracy: 0.7835\n",
            "Epoch 3/10\n",
            "215/215 [==============================] - 1s 6ms/step - loss: 0.2179 - accuracy: 0.9172 - val_loss: 0.5551 - val_accuracy: 0.7664\n",
            "Epoch 4/10\n",
            "215/215 [==============================] - 1s 6ms/step - loss: 0.1519 - accuracy: 0.9426 - val_loss: 0.6681 - val_accuracy: 0.7690\n",
            "Epoch 5/10\n",
            "215/215 [==============================] - 1s 6ms/step - loss: 0.1111 - accuracy: 0.9616 - val_loss: 0.8636 - val_accuracy: 0.7533\n",
            "Epoch 6/10\n",
            "215/215 [==============================] - 1s 7ms/step - loss: 0.0805 - accuracy: 0.9707 - val_loss: 0.8997 - val_accuracy: 0.7730\n",
            "Epoch 7/10\n",
            "215/215 [==============================] - 2s 9ms/step - loss: 0.0647 - accuracy: 0.9737 - val_loss: 1.0916 - val_accuracy: 0.7585\n",
            "Epoch 8/10\n",
            "215/215 [==============================] - 2s 11ms/step - loss: 0.0585 - accuracy: 0.9755 - val_loss: 1.0487 - val_accuracy: 0.7559\n",
            "Epoch 9/10\n",
            "215/215 [==============================] - 2s 11ms/step - loss: 0.0532 - accuracy: 0.9764 - val_loss: 1.2272 - val_accuracy: 0.7402\n",
            "Epoch 10/10\n",
            "215/215 [==============================] - 2s 11ms/step - loss: 0.0484 - accuracy: 0.9771 - val_loss: 1.3497 - val_accuracy: 0.7598\n"
          ]
        }
      ]
    },
    {
      "cell_type": "code",
      "source": [
        "# Evaluate Model\n",
        "\n",
        "y_pred_train = tf.squeeze(tf.round(model_3.predict(X_train)))\n",
        "y_pred_val = tf.squeeze(tf.round(model_3.predict(X_val)))\n",
        "\n",
        "evaluate_model(y_train,y_pred_train,y_val,y_pred_val)"
      ],
      "metadata": {
        "colab": {
          "base_uri": "https://localhost:8080/"
        },
        "id": "Z2zEL575DK6M",
        "outputId": "03653c9d-acbd-4d66-d082-24289ee1b1e0"
      },
      "execution_count": 50,
      "outputs": [
        {
          "output_type": "stream",
          "name": "stdout",
          "text": [
            "Train accuracy:  0.9807327397460225\n",
            "--------------------------------------------------\n",
            "\n",
            "Validation accuracy:  0.7598425196850394\n",
            "--------------------------------------------------\n",
            "\n",
            "              precision    recall  f1-score   support\n",
            "\n",
            "           0       0.75      0.85      0.80       426\n",
            "           1       0.78      0.64      0.70       336\n",
            "\n",
            "    accuracy                           0.76       762\n",
            "   macro avg       0.76      0.75      0.75       762\n",
            "weighted avg       0.76      0.76      0.76       762\n",
            "\n"
          ]
        }
      ]
    },
    {
      "cell_type": "code",
      "source": [
        "plot_graphs(hist_3)"
      ],
      "metadata": {
        "colab": {
          "base_uri": "https://localhost:8080/",
          "height": 573
        },
        "id": "ETnfZe_xDRQc",
        "outputId": "8683afa1-77ec-45fc-bb65-d777874fca37"
      },
      "execution_count": 51,
      "outputs": [
        {
          "output_type": "display_data",
          "data": {
            "text/plain": [
              "<Figure size 432x288 with 1 Axes>"
            ],
            "image/png": "[encoded data removed]"
          },
          "metadata": {
            "needs_background": "light"
          }
        },
        {
          "output_type": "display_data",
          "data": {
            "text/plain": [
              "<Figure size 432x288 with 1 Axes>"
            ],
            "image/png": "[encoded data removed]"
          },
          "metadata": {
            "needs_background": "light"
          }
        }
      ]
    },
    {
      "cell_type": "markdown",
      "source": [
        "## Model 4 (Bidirectional LSTM)\n",
        "\n"
      ],
      "metadata": {
        "id": "zvjbT6MHDojk"
      }
    },
    {
      "cell_type": "markdown",
      "source": [
        "Bidirectional long-short term memory(bi-lstm) is the process of making any neural network o have the sequence information in both directions backwards (future to past) or forward(past to future). \n",
        "\n",
        "In bidirectional, our input flows in two directions, making a bi-lstm different from the regular LSTM. With the regular LSTM, we can make input flow in one direction, either backwards or forward. However, in bi-directional, we can make the input flow in both directions to preserve the future and the past information. For a better explanation, let’s have an example.    \n",
        "\n"
      ],
      "metadata": {
        "id": "phyd7HyKDt6Y"
      }
    },
    {
      "cell_type": "markdown",
      "source": [
        "Implementation:"
      ],
      "metadata": {
        "id": "1uq_W_9ZERDo"
      }
    },
    {
      "cell_type": "code",
      "source": [
        "embedding_4 = layers.Embedding(input_dim=max_vocab_length,\n",
        "                                     output_dim=128,\n",
        "                                     embeddings_initializer=\"uniform\",\n",
        "                                     input_length=max_length,\n",
        "                                     name=\"embedding_4\")\n",
        "\n",
        "# Build a Bidirectional RNN in TensorFlow\n",
        "inputs = layers.Input(shape=(1,), dtype=\"string\")\n",
        "x = text_vectorizer(inputs)\n",
        "x = embedding_4(x)\n",
        "x = layers.Bidirectional(layers.LSTM(64))(x) # bidirectional goes both ways so has double the parameters of a regular LSTM layer\n",
        "x = layers.Dense(64,activation='relu')(x)\n",
        "outputs = layers.Dense(1, activation=\"sigmoid\")(x)\n",
        "model_4 = tf.keras.Model(inputs, outputs, name=\"model_4_Bidirectional\")"
      ],
      "metadata": {
        "id": "2iavgk-mDVKz"
      },
      "execution_count": 52,
      "outputs": []
    },
    {
      "cell_type": "code",
      "source": [
        "# Compile\n",
        "model_4.compile(loss=\"binary_crossentropy\",\n",
        "                optimizer=tf.keras.optimizers.Adam(),\n",
        "                metrics=[\"accuracy\"])"
      ],
      "metadata": {
        "id": "8H3QF3vqEd9R"
      },
      "execution_count": 53,
      "outputs": []
    },
    {
      "cell_type": "code",
      "source": [
        "model_4.summary()"
      ],
      "metadata": {
        "colab": {
          "base_uri": "https://localhost:8080/"
        },
        "id": "NTAV1w1NEfjG",
        "outputId": "e3d8b7d4-c3ce-40e2-a3f4-0e90618f60a2"
      },
      "execution_count": 54,
      "outputs": [
        {
          "output_type": "stream",
          "name": "stdout",
          "text": [
            "Model: \"model_4_Bidirectional\"\n",
            "_________________________________________________________________\n",
            " Layer (type)                Output Shape              Param #   \n",
            "=================================================================\n",
            " input_4 (InputLayer)        [(None, 1)]               0         \n",
            "                                                                 \n",
            " text_vectorization (TextVec  (None, 15)               0         \n",
            " torization)                                                     \n",
            "                                                                 \n",
            " embedding_4 (Embedding)     (None, 15, 128)           1280000   \n",
            "                                                                 \n",
            " bidirectional (Bidirectiona  (None, 128)              98816     \n",
            " l)                                                              \n",
            "                                                                 \n",
            " dense_6 (Dense)             (None, 64)                8256      \n",
            "                                                                 \n",
            " dense_7 (Dense)             (None, 1)                 65        \n",
            "                                                                 \n",
            "=================================================================\n",
            "Total params: 1,387,137\n",
            "Trainable params: 1,387,137\n",
            "Non-trainable params: 0\n",
            "_________________________________________________________________\n"
          ]
        }
      ]
    },
    {
      "cell_type": "code",
      "source": [
        "hist_4 = model_4.fit(X_train,y_train, epochs=10, validation_data=(X_val,y_val))"
      ],
      "metadata": {
        "colab": {
          "base_uri": "https://localhost:8080/"
        },
        "id": "qsMfWPBGEjfh",
        "outputId": "51f758be-059d-46cd-bb83-b73989ad5869"
      },
      "execution_count": 55,
      "outputs": [
        {
          "output_type": "stream",
          "name": "stdout",
          "text": [
            "Epoch 1/10\n",
            "215/215 [==============================] - 11s 23ms/step - loss: 0.5147 - accuracy: 0.7408 - val_loss: 0.4766 - val_accuracy: 0.7913\n",
            "Epoch 2/10\n",
            "215/215 [==============================] - 3s 14ms/step - loss: 0.3121 - accuracy: 0.8727 - val_loss: 0.4961 - val_accuracy: 0.7795\n",
            "Epoch 3/10\n",
            "215/215 [==============================] - 3s 14ms/step - loss: 0.2142 - accuracy: 0.9169 - val_loss: 0.5661 - val_accuracy: 0.7572\n",
            "Epoch 4/10\n",
            "215/215 [==============================] - 3s 14ms/step - loss: 0.1409 - accuracy: 0.9460 - val_loss: 0.7276 - val_accuracy: 0.7493\n",
            "Epoch 5/10\n",
            "215/215 [==============================] - 3s 13ms/step - loss: 0.0889 - accuracy: 0.9629 - val_loss: 1.2642 - val_accuracy: 0.7546\n",
            "Epoch 6/10\n",
            "215/215 [==============================] - 3s 12ms/step - loss: 0.0640 - accuracy: 0.9733 - val_loss: 1.2066 - val_accuracy: 0.7349\n",
            "Epoch 7/10\n",
            "215/215 [==============================] - 3s 13ms/step - loss: 0.0553 - accuracy: 0.9739 - val_loss: 1.2841 - val_accuracy: 0.7585\n",
            "Epoch 8/10\n",
            "215/215 [==============================] - 3s 13ms/step - loss: 0.0502 - accuracy: 0.9759 - val_loss: 1.5508 - val_accuracy: 0.7415\n",
            "Epoch 9/10\n",
            "215/215 [==============================] - 2s 11ms/step - loss: 0.0454 - accuracy: 0.9756 - val_loss: 1.6188 - val_accuracy: 0.7323\n",
            "Epoch 10/10\n",
            "215/215 [==============================] - 2s 8ms/step - loss: 0.0513 - accuracy: 0.9755 - val_loss: 1.5707 - val_accuracy: 0.7231\n"
          ]
        }
      ]
    },
    {
      "cell_type": "code",
      "source": [
        "# Evaluate Model\n",
        "\n",
        "y_pred_train = tf.squeeze(tf.round(model_4.predict(X_train)))\n",
        "y_pred_val = tf.squeeze(tf.round(model_4.predict(X_val)))\n",
        "\n",
        "evaluate_model(y_train,y_pred_train,y_val,y_pred_val)"
      ],
      "metadata": {
        "colab": {
          "base_uri": "https://localhost:8080/"
        },
        "id": "TlQVsSw-EkL4",
        "outputId": "c4b4408b-4f9f-4eda-c0f2-8d3e351390ec"
      },
      "execution_count": 64,
      "outputs": [
        {
          "output_type": "stream",
          "name": "stdout",
          "text": [
            "Train accuracy:  0.9829222011385199\n",
            "--------------------------------------------------\n",
            "\n",
            "Validation accuracy:  0.7230971128608924\n",
            "--------------------------------------------------\n",
            "\n",
            "              precision    recall  f1-score   support\n",
            "\n",
            "           0       0.77      0.73      0.75       426\n",
            "           1       0.68      0.72      0.70       336\n",
            "\n",
            "    accuracy                           0.72       762\n",
            "   macro avg       0.72      0.72      0.72       762\n",
            "weighted avg       0.73      0.72      0.72       762\n",
            "\n"
          ]
        }
      ]
    },
    {
      "cell_type": "code",
      "source": [
        "plot_graphs(hist_4)"
      ],
      "metadata": {
        "colab": {
          "base_uri": "https://localhost:8080/",
          "height": 573
        },
        "id": "Drdoz6t2EsGG",
        "outputId": "9aa38021-ba26-49dc-bb05-ea3d57405ef6"
      },
      "execution_count": 65,
      "outputs": [
        {
          "output_type": "display_data",
          "data": {
            "text/plain": [
              "<Figure size 432x288 with 1 Axes>"
            ],
            "image/png": "[encoded data removed]"
          },
          "metadata": {
            "needs_background": "light"
          }
        },
        {
          "output_type": "display_data",
          "data": {
            "text/plain": [
              "<Figure size 432x288 with 1 Axes>"
            ],
            "image/png": "[encoded data removed]"
          },
          "metadata": {
            "needs_background": "light"
          }
        }
      ]
    },
    {
      "cell_type": "markdown",
      "source": [
        "## Model 5 Pretrained Embedding (Transfer Learning)"
      ],
      "metadata": {
        "id": "_ehwx4rYXNJM"
      }
    },
    {
      "cell_type": "markdown",
      "source": [
        "We can use pretrained embeddings from Tensorflowhub.\n",
        "We are going to use Universal Sentence Encoder from Tensorflow hub to learn the embeddings from words.\n",
        "\n"
      ],
      "metadata": {
        "id": "J-m_JcHNXW5v"
      }
    },
    {
      "cell_type": "code",
      "source": [
        "import numpy as np\n",
        "import tensorflow_hub as hub\n",
        "embed = hub.load(\"https://tfhub.dev/google/universal-sentence-encoder/4\") # load Universal Sentence Encoder\n",
        "sample_sentence = np.random.choice(X_train)\n",
        "embed_samples = embed([sample_sentence])\n",
        "\n",
        "print(embed_samples[0][:50])"
      ],
      "metadata": {
        "colab": {
          "base_uri": "https://localhost:8080/"
        },
        "id": "8myQfrQ5EwYe",
        "outputId": "a16e62dd-e874-4606-9024-69c86b82d41e"
      },
      "execution_count": 58,
      "outputs": [
        {
          "output_type": "stream",
          "name": "stdout",
          "text": [
            "tf.Tensor(\n",
            "[ 0.04493982  0.07510825  0.06351347 -0.01562481 -0.08386332  0.07840145\n",
            "  0.0365879  -0.00504787  0.05610066  0.00482853  0.08168934  0.08372366\n",
            " -0.03949929 -0.04125081 -0.00064119 -0.03957462 -0.08439755  0.0298594\n",
            " -0.0361927  -0.05785606 -0.0804058   0.00219276 -0.06842608  0.04503179\n",
            "  0.0316854   0.01754772 -0.02408014 -0.0376779   0.00682998 -0.04865956\n",
            " -0.07083604  0.08417416  0.02593586  0.0391228   0.02531863  0.06149671\n",
            " -0.07492529 -0.00308754 -0.0071991   0.00263474  0.02709704  0.07251261\n",
            " -0.00555441 -0.02955686  0.04459886  0.0111223   0.02933203 -0.02590208\n",
            "  0.0159054  -0.00821143], shape=(50,), dtype=float32)\n"
          ]
        }
      ]
    },
    {
      "cell_type": "code",
      "source": [
        "# We can use this encoding layer in place of our text_vectorizer and embedding layer\n",
        "sentence_encoder_layer = hub.KerasLayer(\"https://tfhub.dev/google/universal-sentence-encoder/4\",\n",
        "                                        input_shape=[], # shape of inputs coming to our model \n",
        "                                        dtype=tf.string, # data type of inputs coming to the USE layer\n",
        "                                        trainable=False, # keep the pretrained weights (we'll create a feature extractor)\n",
        "                                        name=\"USE\")"
      ],
      "metadata": {
        "id": "ZH8P7lWyXxee"
      },
      "execution_count": 59,
      "outputs": []
    },
    {
      "cell_type": "code",
      "source": [
        "\n",
        "\n",
        "model_5 = tf.keras.Sequential([\n",
        "  sentence_encoder_layer, # encoder layer for embedding\n",
        "  layers.Dense(64, activation=\"relu\"),\n",
        "  layers.Dense(1, activation=\"sigmoid\")\n",
        "], name=\"model_6\")\n"
      ],
      "metadata": {
        "id": "woeAd2-lbamy"
      },
      "execution_count": 60,
      "outputs": []
    },
    {
      "cell_type": "code",
      "source": [
        "# Compile model\n",
        "model_5.compile(loss=\"binary_crossentropy\",\n",
        "                optimizer=tf.keras.optimizers.Adam(),\n",
        "                metrics=[\"accuracy\"])\n"
      ],
      "metadata": {
        "id": "CWQzOvh1b8nh"
      },
      "execution_count": 61,
      "outputs": []
    },
    {
      "cell_type": "code",
      "source": [
        "model_5.summary()"
      ],
      "metadata": {
        "colab": {
          "base_uri": "https://localhost:8080/"
        },
        "id": "rxSCh85P-hai",
        "outputId": "3c013b6e-4fcf-4437-82b3-e54abec9ebeb"
      },
      "execution_count": 62,
      "outputs": [
        {
          "output_type": "stream",
          "name": "stdout",
          "text": [
            "Model: \"model_6\"\n",
            "_________________________________________________________________\n",
            " Layer (type)                Output Shape              Param #   \n",
            "=================================================================\n",
            " USE (KerasLayer)            (None, 512)               256797824 \n",
            "                                                                 \n",
            " dense_8 (Dense)             (None, 64)                32832     \n",
            "                                                                 \n",
            " dense_9 (Dense)             (None, 1)                 65        \n",
            "                                                                 \n",
            "=================================================================\n",
            "Total params: 256,830,721\n",
            "Trainable params: 32,897\n",
            "Non-trainable params: 256,797,824\n",
            "_________________________________________________________________\n"
          ]
        }
      ]
    },
    {
      "cell_type": "code",
      "source": [
        "hist_5 = model_5.fit(X_train,\n",
        "                     y_train,\n",
        "                     epochs=10,\n",
        "                     validation_data=(X_val, y_val))"
      ],
      "metadata": {
        "colab": {
          "base_uri": "https://localhost:8080/"
        },
        "id": "ctIbYcvr-i0y",
        "outputId": "39cc570a-5ca9-482a-83c2-21c1d6a72d43"
      },
      "execution_count": 66,
      "outputs": [
        {
          "output_type": "stream",
          "name": "stdout",
          "text": [
            "Epoch 1/10\n",
            "215/215 [==============================] - 4s 21ms/step - loss: 0.3512 - accuracy: 0.8462 - val_loss: 0.4042 - val_accuracy: 0.8215\n",
            "Epoch 2/10\n",
            "215/215 [==============================] - 3s 16ms/step - loss: 0.3437 - accuracy: 0.8521 - val_loss: 0.4018 - val_accuracy: 0.8215\n",
            "Epoch 3/10\n",
            "215/215 [==============================] - 2s 11ms/step - loss: 0.3378 - accuracy: 0.8535 - val_loss: 0.4041 - val_accuracy: 0.8241\n",
            "Epoch 4/10\n",
            "215/215 [==============================] - 2s 11ms/step - loss: 0.3302 - accuracy: 0.8565 - val_loss: 0.4075 - val_accuracy: 0.8255\n",
            "Epoch 5/10\n",
            "215/215 [==============================] - 2s 11ms/step - loss: 0.3236 - accuracy: 0.8618 - val_loss: 0.4046 - val_accuracy: 0.8255\n",
            "Epoch 6/10\n",
            "215/215 [==============================] - 2s 11ms/step - loss: 0.3143 - accuracy: 0.8660 - val_loss: 0.4153 - val_accuracy: 0.8241\n",
            "Epoch 7/10\n",
            "215/215 [==============================] - 2s 11ms/step - loss: 0.3085 - accuracy: 0.8699 - val_loss: 0.4167 - val_accuracy: 0.8176\n",
            "Epoch 8/10\n",
            "215/215 [==============================] - 2s 11ms/step - loss: 0.3001 - accuracy: 0.8739 - val_loss: 0.4145 - val_accuracy: 0.8176\n",
            "Epoch 9/10\n",
            "215/215 [==============================] - 2s 11ms/step - loss: 0.2905 - accuracy: 0.8772 - val_loss: 0.4184 - val_accuracy: 0.8136\n",
            "Epoch 10/10\n",
            "215/215 [==============================] - 2s 11ms/step - loss: 0.2819 - accuracy: 0.8850 - val_loss: 0.4193 - val_accuracy: 0.8163\n"
          ]
        }
      ]
    },
    {
      "cell_type": "code",
      "source": [
        "# Evaluate Model\n",
        "\n",
        "y_pred_train = tf.squeeze(tf.round(model_5.predict(X_train)))\n",
        "y_pred_val = tf.squeeze(tf.round(model_5.predict(X_val)))\n",
        "\n",
        "evaluate_model(y_train,y_pred_train,y_val,y_pred_val)"
      ],
      "metadata": {
        "colab": {
          "base_uri": "https://localhost:8080/"
        },
        "id": "E7SlJqWQ-tg7",
        "outputId": "3f8400f6-c130-48ce-88d1-3f94aa4bc12f"
      },
      "execution_count": 67,
      "outputs": [
        {
          "output_type": "stream",
          "name": "stdout",
          "text": [
            "Train accuracy:  0.895197781345789\n",
            "--------------------------------------------------\n",
            "\n",
            "Validation accuracy:  0.8162729658792651\n",
            "--------------------------------------------------\n",
            "\n",
            "              precision    recall  f1-score   support\n",
            "\n",
            "           0       0.81      0.88      0.84       426\n",
            "           1       0.83      0.74      0.78       336\n",
            "\n",
            "    accuracy                           0.82       762\n",
            "   macro avg       0.82      0.81      0.81       762\n",
            "weighted avg       0.82      0.82      0.81       762\n",
            "\n"
          ]
        }
      ]
    },
    {
      "cell_type": "code",
      "source": [
        "plot_graphs(hist_5)"
      ],
      "metadata": {
        "colab": {
          "base_uri": "https://localhost:8080/",
          "height": 573
        },
        "id": "3HN3DoQ5_UO4",
        "outputId": "954bd4b4-2d06-4b5a-aaa3-a128909782a7"
      },
      "execution_count": 68,
      "outputs": [
        {
          "output_type": "display_data",
          "data": {
            "text/plain": [
              "<Figure size 432x288 with 1 Axes>"
            ],
            "image/png": "[encoded data removed]"
          },
          "metadata": {
            "needs_background": "light"
          }
        },
        {
          "output_type": "display_data",
          "data": {
            "text/plain": [
              "<Figure size 432x288 with 1 Axes>"
            ],
            "image/png": "[encoded data removed]"
          },
          "metadata": {
            "needs_background": "light"
          }
        }
      ]
    },
    {
      "cell_type": "markdown",
      "source": [
        "### Extra Resources:\n",
        "\n",
        "https://blog.insightdatascience.com/how-to-solve-90-of-nlp-problems-a-step-by-step-guide-fda605278e4e\n",
        "\n",
        "https://becominghuman.ai/a-simple-introduction-to-natural-language-processing-ea66a1747b32\n",
        "\n",
        "https://stanford.edu/~shervine/teaching/cs-230/cheatsheet-recurrent-neural-networks\n",
        "\n",
        "[MIT Lecture on RNN](https://www.youtube.com/watch?v=SEnXr6v2ifU&feature=youtu.be)\n"
      ],
      "metadata": {
        "id": "zdFJfuLuKqSk"
      }
    },
    {
      "cell_type": "code",
      "source": [
        ""
      ],
      "metadata": {
        "id": "C6sT29iiAF6M"
      },
      "execution_count": null,
      "outputs": []
    }
  ]
}