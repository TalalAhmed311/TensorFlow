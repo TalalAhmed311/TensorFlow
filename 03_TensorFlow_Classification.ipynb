{
  "nbformat": 4,
  "nbformat_minor": 0,
  "metadata": {
    "colab": {
      "name": "03_TensorFlow_Classification.ipynb",
      "provenance": []
    },
    "kernelspec": {
      "name": "python3",
      "display_name": "Python 3"
    },
    "language_info": {
      "name": "python"
    }
  },
  "cells": [
    {
      "cell_type": "markdown",
      "source": [
        "### Classification:\n",
        "It is a type of problem where we predict whether something belong to this category or other.\n",
        "\n",
        "### Dataset:\n",
        "Today we using mnist digit dataset to build a deep learning model which classify these hand written images"
      ],
      "metadata": {
        "id": "ru6ucdaNhRuR"
      }
    },
    {
      "cell_type": "code",
      "execution_count": 9,
      "metadata": {
        "id": "HTlSxD7IeJHF"
      },
      "outputs": [],
      "source": [
        "import tensorflow as tf\n",
        "import matplotlib.pyplot as plt\n",
        "import numpy as np\n",
        "import pandas as pd"
      ]
    },
    {
      "cell_type": "code",
      "source": [
        "# Load Dataset\n",
        "from tensorflow.keras.datasets import mnist\n",
        "\n",
        "(X_train,y_train),(X_test,y_test) = mnist.load_data()"
      ],
      "metadata": {
        "id": "4X9RAlaGhxU8"
      },
      "execution_count": 35,
      "outputs": []
    },
    {
      "cell_type": "code",
      "source": [
        "X_train.shape, X_test.shape"
      ],
      "metadata": {
        "colab": {
          "base_uri": "https://localhost:8080/"
        },
        "id": "uORkd57JiyqX",
        "outputId": "a87203ba-a42e-49c2-ef19-25cbc7cb19d2"
      },
      "execution_count": 36,
      "outputs": [
        {
          "output_type": "execute_result",
          "data": {
            "text/plain": [
              "((60000, 28, 28), (10000, 28, 28))"
            ]
          },
          "metadata": {},
          "execution_count": 36
        }
      ]
    },
    {
      "cell_type": "markdown",
      "source": [
        "Image shape is 28*28 pixels"
      ],
      "metadata": {
        "id": "v_cpRZ5KkIiv"
      }
    },
    {
      "cell_type": "code",
      "source": [
        "# Check labels\n",
        "y_train[0]"
      ],
      "metadata": {
        "colab": {
          "base_uri": "https://localhost:8080/"
        },
        "id": "ba69n26ijDXv",
        "outputId": "3be19e2c-b42f-44a9-b311-0e989dde31e1"
      },
      "execution_count": 5,
      "outputs": [
        {
          "output_type": "execute_result",
          "data": {
            "text/plain": [
              "5"
            ]
          },
          "metadata": {},
          "execution_count": 5
        }
      ]
    },
    {
      "cell_type": "code",
      "source": [
        "# Display the image on index 0\n",
        "\n",
        "plt.imshow(X_train[0])\n",
        "plt.show()"
      ],
      "metadata": {
        "colab": {
          "base_uri": "https://localhost:8080/",
          "height": 265
        },
        "id": "SaQKZc5VjJtW",
        "outputId": "0819cf03-b913-4d24-bf24-f98027a1a6ce"
      },
      "execution_count": 6,
      "outputs": [
        {
          "output_type": "display_data",
          "data": {
            "text/plain": [
              "<Figure size 432x288 with 1 Axes>"
            ],
            "image/png": "[encoded data removed]"
          },
          "metadata": {
            "needs_background": "light"
          }
        }
      ]
    },
    {
      "cell_type": "markdown",
      "source": [
        "ok so the above digit is 5"
      ],
      "metadata": {
        "id": "bBSh6I9GjhPI"
      }
    },
    {
      "cell_type": "markdown",
      "source": [
        "# Prepare the Dataset"
      ],
      "metadata": {
        "id": "HbEdz6DingN1"
      }
    },
    {
      "cell_type": "code",
      "source": [
        "# We have to reshape the data to propagate into hidden layers\n",
        "\n",
        "# Shape : (600000,784)\n",
        "X_train_reshaped = tf.reshape(X_train, shape=[X_train.shape[0],28*28])\n",
        "X_train_reshaped"
      ],
      "metadata": {
        "colab": {
          "base_uri": "https://localhost:8080/"
        },
        "id": "04CvMd-uniX9",
        "outputId": "1fe51cde-6b47-41fa-e58a-03206179a5cc"
      },
      "execution_count": 37,
      "outputs": [
        {
          "output_type": "execute_result",
          "data": {
            "text/plain": [
              "<tf.Tensor: shape=(60000, 784), dtype=uint8, numpy=\n",
              "array([[0, 0, 0, ..., 0, 0, 0],\n",
              "       [0, 0, 0, ..., 0, 0, 0],\n",
              "       [0, 0, 0, ..., 0, 0, 0],\n",
              "       ...,\n",
              "       [0, 0, 0, ..., 0, 0, 0],\n",
              "       [0, 0, 0, ..., 0, 0, 0],\n",
              "       [0, 0, 0, ..., 0, 0, 0]], dtype=uint8)>"
            ]
          },
          "metadata": {},
          "execution_count": 37
        }
      ]
    },
    {
      "cell_type": "code",
      "source": [
        "X_test_reshaped = tf.reshape(X_test, shape=[X_test.shape[0],28*28])\n",
        "X_test_reshaped.shape"
      ],
      "metadata": {
        "colab": {
          "base_uri": "https://localhost:8080/"
        },
        "id": "to8O9Bb6niWx",
        "outputId": "908b4596-0d5a-4687-8cd8-f9f6ce931750"
      },
      "execution_count": 38,
      "outputs": [
        {
          "output_type": "execute_result",
          "data": {
            "text/plain": [
              "TensorShape([10000, 784])"
            ]
          },
          "metadata": {},
          "execution_count": 38
        }
      ]
    },
    {
      "cell_type": "markdown",
      "source": [
        "# Lets build a Deep learning Model to classify these digits"
      ],
      "metadata": {
        "id": "L_Ap7F_tjkuv"
      }
    },
    {
      "cell_type": "code",
      "source": [
        "model1 = tf.keras.Sequential([\n",
        "                             \n",
        "          tf.keras.layers.Dense(100,input_shape=[28*28]), # define 100 neurons on first hidden layer\n",
        "          tf.keras.layers.Dense(50), # 50 neurons at 2nd layer\n",
        "          tf.keras.layers.Dense(10, activation='softmax') # 10 ouput neurons\n",
        "          \n",
        "])"
      ],
      "metadata": {
        "id": "61FD18XZjUel"
      },
      "execution_count": 39,
      "outputs": []
    },
    {
      "cell_type": "markdown",
      "source": [
        "## Before compilation and training Model let me clarify some terms for you.\n",
        "\n",
        "\n",
        "\n",
        "> Activation Function: The function which we help us to build the mapping between inputs and output on nodes. It could be Linear or Non Linear.\n",
        "Types of Activation Function are:\n",
        "\n",
        "1.   Linear\n",
        "2.   Sigmoid (Binary Classification)\n",
        "3.   Relu    (replacing negative numbers with zeros)\n",
        "4.   Softmax (for multiclass classification)\n",
        "\n",
        "\n",
        "In these we use softmax because we have 10 classes\n",
        "\n",
        "\n",
        "\n",
        "\n",
        "\n"
      ],
      "metadata": {
        "id": "tOTqoQEfkzRc"
      }
    },
    {
      "cell_type": "code",
      "source": [
        "model1.compile(loss=tf.keras.losses.SparseCategoricalCrossentropy(),optimizer=tf.keras.optimizers.Adam(), metrics=['accuracy'])"
      ],
      "metadata": {
        "id": "RNVvjskSktTC"
      },
      "execution_count": 40,
      "outputs": []
    },
    {
      "cell_type": "markdown",
      "source": [
        "We use Sparse Categorical cross entropy when we have more than 2 classes."
      ],
      "metadata": {
        "id": "SbWnPh_-nEk8"
      }
    },
    {
      "cell_type": "code",
      "source": [
        "model1.fit(X_train_reshaped, y_train, epochs=20)"
      ],
      "metadata": {
        "colab": {
          "base_uri": "https://localhost:8080/"
        },
        "id": "SQybo8inm241",
        "outputId": "c76092d0-27b9-419f-e4ee-ef46d86adc24"
      },
      "execution_count": 41,
      "outputs": [
        {
          "output_type": "stream",
          "name": "stdout",
          "text": [
            "Epoch 1/20\n",
            "1875/1875 [==============================] - 6s 3ms/step - loss: 8.2413 - accuracy: 0.8436\n",
            "Epoch 2/20\n",
            "1875/1875 [==============================] - 5s 3ms/step - loss: 1.9425 - accuracy: 0.8486\n",
            "Epoch 3/20\n",
            "1875/1875 [==============================] - 5s 3ms/step - loss: 1.4544 - accuracy: 0.8475\n",
            "Epoch 4/20\n",
            "1875/1875 [==============================] - 6s 3ms/step - loss: 1.0936 - accuracy: 0.8551\n",
            "Epoch 5/20\n",
            "1875/1875 [==============================] - 6s 3ms/step - loss: 0.8141 - accuracy: 0.8646\n",
            "Epoch 6/20\n",
            "1875/1875 [==============================] - 6s 3ms/step - loss: 0.6530 - accuracy: 0.8701\n",
            "Epoch 7/20\n",
            "1875/1875 [==============================] - 5s 3ms/step - loss: 0.5330 - accuracy: 0.8766\n",
            "Epoch 8/20\n",
            "1875/1875 [==============================] - 7s 4ms/step - loss: 0.5091 - accuracy: 0.8770\n",
            "Epoch 9/20\n",
            "1875/1875 [==============================] - 6s 3ms/step - loss: 0.4406 - accuracy: 0.8852\n",
            "Epoch 10/20\n",
            "1875/1875 [==============================] - 5s 3ms/step - loss: 0.4186 - accuracy: 0.8880\n",
            "Epoch 11/20\n",
            "1875/1875 [==============================] - 5s 3ms/step - loss: 0.3936 - accuracy: 0.8920\n",
            "Epoch 12/20\n",
            "1875/1875 [==============================] - 5s 3ms/step - loss: 0.3717 - accuracy: 0.8975\n",
            "Epoch 13/20\n",
            "1875/1875 [==============================] - 5s 3ms/step - loss: 0.3665 - accuracy: 0.8982\n",
            "Epoch 14/20\n",
            "1875/1875 [==============================] - 6s 3ms/step - loss: 0.3591 - accuracy: 0.9001\n",
            "Epoch 15/20\n",
            "1875/1875 [==============================] - 6s 3ms/step - loss: 0.3539 - accuracy: 0.9021\n",
            "Epoch 16/20\n",
            "1875/1875 [==============================] - 6s 3ms/step - loss: 0.3488 - accuracy: 0.9032\n",
            "Epoch 17/20\n",
            "1875/1875 [==============================] - 6s 3ms/step - loss: 0.3465 - accuracy: 0.9032\n",
            "Epoch 18/20\n",
            "1875/1875 [==============================] - 5s 3ms/step - loss: 0.3479 - accuracy: 0.9033\n",
            "Epoch 19/20\n",
            "1875/1875 [==============================] - 6s 3ms/step - loss: 0.3435 - accuracy: 0.9040\n",
            "Epoch 20/20\n",
            "1875/1875 [==============================] - 5s 3ms/step - loss: 0.3441 - accuracy: 0.9043\n"
          ]
        },
        {
          "output_type": "execute_result",
          "data": {
            "text/plain": [
              "<keras.callbacks.History at 0x7f260d69e590>"
            ]
          },
          "metadata": {},
          "execution_count": 41
        }
      ]
    },
    {
      "cell_type": "markdown",
      "source": [
        "Accuracy is pretty good on training lets check it on test set"
      ],
      "metadata": {
        "id": "VZcBbFF4r8ss"
      }
    },
    {
      "cell_type": "code",
      "source": [
        "model1.evaluate(X_test_reshaped,y_test)"
      ],
      "metadata": {
        "colab": {
          "base_uri": "https://localhost:8080/"
        },
        "id": "j3tUyFvJpJcm",
        "outputId": "24222dce-4f65-4b4a-a33a-cf3c21a60869"
      },
      "execution_count": 42,
      "outputs": [
        {
          "output_type": "stream",
          "name": "stdout",
          "text": [
            "313/313 [==============================] - 1s 3ms/step - loss: 0.3625 - accuracy: 0.8997\n"
          ]
        },
        {
          "output_type": "execute_result",
          "data": {
            "text/plain": [
              "[0.3624632954597473, 0.8996999859809875]"
            ]
          },
          "metadata": {},
          "execution_count": 42
        }
      ]
    },
    {
      "cell_type": "markdown",
      "source": [
        "Ahaan it is nice :)"
      ],
      "metadata": {
        "id": "wWww5cshsIjL"
      }
    },
    {
      "cell_type": "markdown",
      "source": [
        "\n",
        "\n",
        "> Other ways to evaluate model we will use confusion matrix\n",
        "\n"
      ],
      "metadata": {
        "id": "bjv8Dfn3sNvr"
      }
    },
    {
      "cell_type": "code",
      "source": [
        "y_pred = model1.predict(X_test_reshaped)\n",
        "y_pred"
      ],
      "metadata": {
        "colab": {
          "base_uri": "https://localhost:8080/"
        },
        "id": "uYnXIDu5s3Qm",
        "outputId": "fb22c5e2-aa52-4105-b06c-ad00d45bc115"
      },
      "execution_count": 45,
      "outputs": [
        {
          "output_type": "execute_result",
          "data": {
            "text/plain": [
              "array([[2.11177621e-06, 3.55023649e-11, 5.56646410e-06, ...,\n",
              "        9.95184600e-01, 1.84990295e-05, 1.44881924e-04],\n",
              "       [1.31362246e-08, 2.62026113e-11, 9.99679446e-01, ...,\n",
              "        9.06975511e-21, 4.25005098e-09, 4.59573897e-18],\n",
              "       [3.16056969e-07, 9.87077951e-01, 6.09658146e-03, ...,\n",
              "        6.44437503e-04, 1.89603458e-03, 1.09382272e-04],\n",
              "       ...,\n",
              "       [6.41923226e-09, 2.27161891e-05, 4.47521188e-06, ...,\n",
              "        2.04530341e-04, 4.25835192e-01, 1.08559236e-01],\n",
              "       [7.02198855e-10, 1.48250390e-08, 2.67350098e-09, ...,\n",
              "        2.21962310e-11, 4.68508061e-03, 3.69735975e-09],\n",
              "       [1.86433202e-09, 1.05980132e-13, 7.87318584e-08, ...,\n",
              "        4.86918448e-13, 5.43555999e-11, 7.55672087e-12]], dtype=float32)"
            ]
          },
          "metadata": {},
          "execution_count": 45
        }
      ]
    },
    {
      "cell_type": "code",
      "source": [
        "y_pred_labels = [np.argmin(y) for y in y_pred]\n",
        "y_pred_labels[:10]"
      ],
      "metadata": {
        "colab": {
          "base_uri": "https://localhost:8080/"
        },
        "id": "O_qSBKC_tODQ",
        "outputId": "6cf4ae69-5b6d-4041-c72e-ad222972bd6f"
      },
      "execution_count": 52,
      "outputs": [
        {
          "output_type": "execute_result",
          "data": {
            "text/plain": [
              "[6, 4, 0, 1, 3, 0, 2, 0, 3, 2]"
            ]
          },
          "metadata": {},
          "execution_count": 52
        }
      ]
    },
    {
      "cell_type": "code",
      "source": [
        "from sklearn.metrics import confusion_matrix\n",
        "\n",
        "cm = confusion_matrix(y_test,y_pred_labels)\n",
        "print(cm)"
      ],
      "metadata": {
        "colab": {
          "base_uri": "https://localhost:8080/"
        },
        "id": "9tpdIc3KprXJ",
        "outputId": "3e376022-921a-46c0-bdc4-6f22c149f859"
      },
      "execution_count": 53,
      "outputs": [
        {
          "output_type": "stream",
          "name": "stdout",
          "text": [
            "[[  0 846   3  10  73   0  12  30   0   6]\n",
            " [810   0   0   0 307   0   8  10   0   0]\n",
            " [ 72 168   1   4 387  25  38 248   0  89]\n",
            " [ 73   8  12   0 381   2 355 171   1   7]\n",
            " [346 175 124 274   0  21   9  33   0   0]\n",
            " [ 10 202  65   2  97   0  91 405   0  20]\n",
            " [ 95 118   0 131   4  34   0 547   6  23]\n",
            " [ 70  83  45   0   3  10 817   0   0   0]\n",
            " [168 106   2  10 105   1 118 462   0   2]\n",
            " [389 225 114  38   4  43 195   1   0   0]]\n"
          ]
        }
      ]
    },
    {
      "cell_type": "markdown",
      "source": [
        "### Visualize the Confusion Matrix"
      ],
      "metadata": {
        "id": "MpdqvD-suAQa"
      }
    },
    {
      "cell_type": "code",
      "source": [
        "import seaborn as sns\n",
        "\n",
        "plt.figure(figsize=(15,10))\n",
        "\n",
        "sns.heatmap(cm,annot=True)\n",
        "plt.show()"
      ],
      "metadata": {
        "colab": {
          "base_uri": "https://localhost:8080/",
          "height": 592
        },
        "id": "rpWHQ6rmstqo",
        "outputId": "e7469022-b0b8-450c-e601-cd175b418a5b"
      },
      "execution_count": 55,
      "outputs": [
        {
          "output_type": "display_data",
          "data": {
            "text/plain": [
              "<Figure size 1080x720 with 2 Axes>"
            ],
            "image/png": "[encoded data removed]"
          },
          "metadata": {
            "needs_background": "light"
          }
        }
      ]
    },
    {
      "cell_type": "markdown",
      "source": [
        "\n",
        "\n",
        "> Lets build another and improved model to achieve more accuracy by adding more layers and some hyperparamters tunning and by normalizing the Data.\n",
        "\n"
      ],
      "metadata": {
        "id": "SF-GqewSu11f"
      }
    },
    {
      "cell_type": "markdown",
      "source": [
        "### Normalize the Data"
      ],
      "metadata": {
        "id": "v7LwqTpMv-gg"
      }
    },
    {
      "cell_type": "code",
      "source": [
        "X_train_norm = X_train_reshaped/255\n",
        "X_test_norm = X_test_reshaped/255"
      ],
      "metadata": {
        "id": "VVrX1X3kv96K"
      },
      "execution_count": 56,
      "outputs": []
    },
    {
      "cell_type": "markdown",
      "source": [
        "### Build Model"
      ],
      "metadata": {
        "id": "r6YnnGHJwJiD"
      }
    },
    {
      "cell_type": "code",
      "source": [
        "model2 = tf.keras.Sequential([\n",
        "          tf.keras.layers.Dense(200,input_shape=[28*28],activation='relu'),\n",
        "          tf.keras.layers.Dense(100,activation='relu'),\n",
        "          tf.keras.layers.Dense(50,activation='relu'),\n",
        "          tf.keras.layers.Dense(10, activation='softmax'),\n",
        "          \n",
        "\n",
        "])\n",
        "\n",
        "model2.compile(loss= tf.losses.SparseCategoricalCrossentropy(), optimizer=tf.optimizers.SGD(), metrics=['accuracy'])"
      ],
      "metadata": {
        "id": "UCtL3JzwuUex"
      },
      "execution_count": 60,
      "outputs": []
    },
    {
      "cell_type": "code",
      "source": [
        "model2.summary()"
      ],
      "metadata": {
        "colab": {
          "base_uri": "https://localhost:8080/"
        },
        "id": "tAqJxJLQwtCD",
        "outputId": "d4fc6ac8-e545-409a-9c13-776c8ce8d089"
      },
      "execution_count": 61,
      "outputs": [
        {
          "output_type": "stream",
          "name": "stdout",
          "text": [
            "Model: \"sequential_5\"\n",
            "_________________________________________________________________\n",
            " Layer (type)                Output Shape              Param #   \n",
            "=================================================================\n",
            " dense_17 (Dense)            (None, 200)               157000    \n",
            "                                                                 \n",
            " dense_18 (Dense)            (None, 100)               20100     \n",
            "                                                                 \n",
            " dense_19 (Dense)            (None, 50)                5050      \n",
            "                                                                 \n",
            " dense_20 (Dense)            (None, 10)                510       \n",
            "                                                                 \n",
            "=================================================================\n",
            "Total params: 182,660\n",
            "Trainable params: 182,660\n",
            "Non-trainable params: 0\n",
            "_________________________________________________________________\n"
          ]
        }
      ]
    },
    {
      "cell_type": "code",
      "source": [
        "history = model2.fit(X_train_norm, y_train, epochs=50, validation_data=(X_test_norm,y_test))"
      ],
      "metadata": {
        "colab": {
          "base_uri": "https://localhost:8080/"
        },
        "id": "DOi-35uMw0G5",
        "outputId": "3f7cdcff-8fd9-4a08-f271-75574f082cb3"
      },
      "execution_count": 62,
      "outputs": [
        {
          "output_type": "stream",
          "name": "stdout",
          "text": [
            "Epoch 1/50\n",
            "1875/1875 [==============================] - 12s 6ms/step - loss: 0.6395 - accuracy: 0.8225 - val_loss: 0.3010 - val_accuracy: 0.9109\n",
            "Epoch 2/50\n",
            "1875/1875 [==============================] - 12s 6ms/step - loss: 0.2659 - accuracy: 0.9225 - val_loss: 0.2216 - val_accuracy: 0.9341\n",
            "Epoch 3/50\n",
            "1875/1875 [==============================] - 11s 6ms/step - loss: 0.2065 - accuracy: 0.9398 - val_loss: 0.1844 - val_accuracy: 0.9457\n",
            "Epoch 4/50\n",
            "1875/1875 [==============================] - 9s 5ms/step - loss: 0.1693 - accuracy: 0.9497 - val_loss: 0.1515 - val_accuracy: 0.9550\n",
            "Epoch 5/50\n",
            "1875/1875 [==============================] - 7s 4ms/step - loss: 0.1427 - accuracy: 0.9584 - val_loss: 0.1394 - val_accuracy: 0.9581\n",
            "Epoch 6/50\n",
            "1875/1875 [==============================] - 7s 4ms/step - loss: 0.1225 - accuracy: 0.9647 - val_loss: 0.1279 - val_accuracy: 0.9609\n",
            "Epoch 7/50\n",
            "1875/1875 [==============================] - 7s 4ms/step - loss: 0.1079 - accuracy: 0.9689 - val_loss: 0.1115 - val_accuracy: 0.9655\n",
            "Epoch 8/50\n",
            "1875/1875 [==============================] - 7s 4ms/step - loss: 0.0953 - accuracy: 0.9723 - val_loss: 0.1130 - val_accuracy: 0.9650\n",
            "Epoch 9/50\n",
            "1875/1875 [==============================] - 7s 4ms/step - loss: 0.0852 - accuracy: 0.9754 - val_loss: 0.0981 - val_accuracy: 0.9696\n",
            "Epoch 10/50\n",
            "1875/1875 [==============================] - 7s 4ms/step - loss: 0.0760 - accuracy: 0.9786 - val_loss: 0.1000 - val_accuracy: 0.9697\n",
            "Epoch 11/50\n",
            "1875/1875 [==============================] - 7s 4ms/step - loss: 0.0690 - accuracy: 0.9799 - val_loss: 0.0929 - val_accuracy: 0.9696\n",
            "Epoch 12/50\n",
            "1875/1875 [==============================] - 8s 4ms/step - loss: 0.0623 - accuracy: 0.9818 - val_loss: 0.0861 - val_accuracy: 0.9731\n",
            "Epoch 13/50\n",
            "1875/1875 [==============================] - 7s 4ms/step - loss: 0.0569 - accuracy: 0.9834 - val_loss: 0.0868 - val_accuracy: 0.9732\n",
            "Epoch 14/50\n",
            "1875/1875 [==============================] - 7s 4ms/step - loss: 0.0519 - accuracy: 0.9850 - val_loss: 0.0842 - val_accuracy: 0.9740\n",
            "Epoch 15/50\n",
            "1875/1875 [==============================] - 7s 4ms/step - loss: 0.0468 - accuracy: 0.9871 - val_loss: 0.0814 - val_accuracy: 0.9741\n",
            "Epoch 16/50\n",
            "1875/1875 [==============================] - 7s 4ms/step - loss: 0.0427 - accuracy: 0.9884 - val_loss: 0.0784 - val_accuracy: 0.9769\n",
            "Epoch 17/50\n",
            "1875/1875 [==============================] - 7s 4ms/step - loss: 0.0385 - accuracy: 0.9898 - val_loss: 0.0783 - val_accuracy: 0.9757\n",
            "Epoch 18/50\n",
            "1875/1875 [==============================] - 7s 4ms/step - loss: 0.0355 - accuracy: 0.9901 - val_loss: 0.0761 - val_accuracy: 0.9774\n",
            "Epoch 19/50\n",
            "1875/1875 [==============================] - 7s 4ms/step - loss: 0.0326 - accuracy: 0.9912 - val_loss: 0.0805 - val_accuracy: 0.9760\n",
            "Epoch 20/50\n",
            "1875/1875 [==============================] - 7s 4ms/step - loss: 0.0295 - accuracy: 0.9921 - val_loss: 0.0748 - val_accuracy: 0.9772\n",
            "Epoch 21/50\n",
            "1875/1875 [==============================] - 7s 4ms/step - loss: 0.0269 - accuracy: 0.9928 - val_loss: 0.0726 - val_accuracy: 0.9773\n",
            "Epoch 22/50\n",
            "1875/1875 [==============================] - 7s 4ms/step - loss: 0.0238 - accuracy: 0.9943 - val_loss: 0.0732 - val_accuracy: 0.9776\n",
            "Epoch 23/50\n",
            "1875/1875 [==============================] - 8s 4ms/step - loss: 0.0219 - accuracy: 0.9947 - val_loss: 0.0749 - val_accuracy: 0.9771\n",
            "Epoch 24/50\n",
            "1875/1875 [==============================] - 8s 4ms/step - loss: 0.0204 - accuracy: 0.9951 - val_loss: 0.0765 - val_accuracy: 0.9773\n",
            "Epoch 25/50\n",
            "1875/1875 [==============================] - 8s 4ms/step - loss: 0.0184 - accuracy: 0.9959 - val_loss: 0.0740 - val_accuracy: 0.9789\n",
            "Epoch 26/50\n",
            "1875/1875 [==============================] - 7s 4ms/step - loss: 0.0164 - accuracy: 0.9965 - val_loss: 0.0733 - val_accuracy: 0.9779\n",
            "Epoch 27/50\n",
            "1875/1875 [==============================] - 8s 4ms/step - loss: 0.0149 - accuracy: 0.9972 - val_loss: 0.0767 - val_accuracy: 0.9772\n",
            "Epoch 28/50\n",
            "1875/1875 [==============================] - 7s 4ms/step - loss: 0.0133 - accuracy: 0.9974 - val_loss: 0.0723 - val_accuracy: 0.9794\n",
            "Epoch 29/50\n",
            "1875/1875 [==============================] - 7s 4ms/step - loss: 0.0122 - accuracy: 0.9979 - val_loss: 0.0746 - val_accuracy: 0.9786\n",
            "Epoch 30/50\n",
            "1875/1875 [==============================] - 7s 4ms/step - loss: 0.0113 - accuracy: 0.9984 - val_loss: 0.0748 - val_accuracy: 0.9776\n",
            "Epoch 31/50\n",
            "1875/1875 [==============================] - 7s 4ms/step - loss: 0.0102 - accuracy: 0.9983 - val_loss: 0.0730 - val_accuracy: 0.9786\n",
            "Epoch 32/50\n",
            "1875/1875 [==============================] - 8s 4ms/step - loss: 0.0093 - accuracy: 0.9987 - val_loss: 0.0763 - val_accuracy: 0.9782\n",
            "Epoch 33/50\n",
            "1875/1875 [==============================] - 8s 4ms/step - loss: 0.0085 - accuracy: 0.9988 - val_loss: 0.0757 - val_accuracy: 0.9787\n",
            "Epoch 34/50\n",
            "1875/1875 [==============================] - 8s 4ms/step - loss: 0.0078 - accuracy: 0.9991 - val_loss: 0.0805 - val_accuracy: 0.9781\n",
            "Epoch 35/50\n",
            "1875/1875 [==============================] - 7s 4ms/step - loss: 0.0070 - accuracy: 0.9992 - val_loss: 0.0768 - val_accuracy: 0.9781\n",
            "Epoch 36/50\n",
            "1875/1875 [==============================] - 7s 4ms/step - loss: 0.0065 - accuracy: 0.9994 - val_loss: 0.0781 - val_accuracy: 0.9771\n",
            "Epoch 37/50\n",
            "1875/1875 [==============================] - 8s 4ms/step - loss: 0.0061 - accuracy: 0.9994 - val_loss: 0.0792 - val_accuracy: 0.9788\n",
            "Epoch 38/50\n",
            "1875/1875 [==============================] - 8s 4ms/step - loss: 0.0056 - accuracy: 0.9995 - val_loss: 0.0775 - val_accuracy: 0.9793\n",
            "Epoch 39/50\n",
            "1875/1875 [==============================] - 8s 4ms/step - loss: 0.0052 - accuracy: 0.9996 - val_loss: 0.0777 - val_accuracy: 0.9785\n",
            "Epoch 40/50\n",
            "1875/1875 [==============================] - 8s 4ms/step - loss: 0.0048 - accuracy: 0.9996 - val_loss: 0.0782 - val_accuracy: 0.9786\n",
            "Epoch 41/50\n",
            "1875/1875 [==============================] - 7s 4ms/step - loss: 0.0044 - accuracy: 0.9997 - val_loss: 0.0810 - val_accuracy: 0.9782\n",
            "Epoch 42/50\n",
            "1875/1875 [==============================] - 7s 4ms/step - loss: 0.0041 - accuracy: 0.9998 - val_loss: 0.0804 - val_accuracy: 0.9793\n",
            "Epoch 43/50\n",
            "1875/1875 [==============================] - 7s 4ms/step - loss: 0.0037 - accuracy: 0.9998 - val_loss: 0.0789 - val_accuracy: 0.9788\n",
            "Epoch 44/50\n",
            "1875/1875 [==============================] - 8s 4ms/step - loss: 0.0036 - accuracy: 0.9998 - val_loss: 0.0793 - val_accuracy: 0.9792\n",
            "Epoch 45/50\n",
            "1875/1875 [==============================] - 8s 4ms/step - loss: 0.0033 - accuracy: 0.9999 - val_loss: 0.0801 - val_accuracy: 0.9784\n",
            "Epoch 46/50\n",
            "1875/1875 [==============================] - 7s 4ms/step - loss: 0.0031 - accuracy: 0.9999 - val_loss: 0.0813 - val_accuracy: 0.9786\n",
            "Epoch 47/50\n",
            "1875/1875 [==============================] - 8s 4ms/step - loss: 0.0029 - accuracy: 0.9998 - val_loss: 0.0816 - val_accuracy: 0.9783\n",
            "Epoch 48/50\n",
            "1875/1875 [==============================] - 8s 4ms/step - loss: 0.0027 - accuracy: 0.9999 - val_loss: 0.0834 - val_accuracy: 0.9788\n",
            "Epoch 49/50\n",
            "1875/1875 [==============================] - 8s 4ms/step - loss: 0.0026 - accuracy: 0.9999 - val_loss: 0.0824 - val_accuracy: 0.9787\n",
            "Epoch 50/50\n",
            "1875/1875 [==============================] - 7s 4ms/step - loss: 0.0024 - accuracy: 0.9999 - val_loss: 0.0832 - val_accuracy: 0.9794\n"
          ]
        }
      ]
    },
    {
      "cell_type": "code",
      "source": [
        "# plot the loss\n",
        "\n",
        "plt.plot(history.history['loss'],label='Loss')\n",
        "plt.plot(history.history['val_loss'],label='Val_loss')\n",
        "\n",
        "plt.legend()\n",
        "plt.show()"
      ],
      "metadata": {
        "colab": {
          "base_uri": "https://localhost:8080/",
          "height": 265
        },
        "id": "uGvVH5KgxvOM",
        "outputId": "f6802261-d947-4903-810b-a50b73dfe9d5"
      },
      "execution_count": 67,
      "outputs": [
        {
          "output_type": "display_data",
          "data": {
            "text/plain": [
              "<Figure size 432x288 with 1 Axes>"
            ],
            "image/png": "[encoded data removed]"
          },
          "metadata": {
            "needs_background": "light"
          }
        }
      ]
    },
    {
      "cell_type": "code",
      "source": [
        "# Plot accuracy\n",
        "\n",
        "plt.plot(history.history['accuracy'],label='Accuracy')\n",
        "plt.plot(history.history['val_accuracy'],label='Val_accuracy')\n",
        "\n",
        "plt.legend()\n",
        "plt.show()"
      ],
      "metadata": {
        "colab": {
          "base_uri": "https://localhost:8080/",
          "height": 265
        },
        "id": "XhBx325369gs",
        "outputId": "06882132-83d6-473d-9779-fe5a72a22610"
      },
      "execution_count": 69,
      "outputs": [
        {
          "output_type": "display_data",
          "data": {
            "text/plain": [
              "<Figure size 432x288 with 1 Axes>"
            ],
            "image/png": "[encoded data removed]"
          },
          "metadata": {
            "needs_background": "light"
          }
        }
      ]
    },
    {
      "cell_type": "markdown",
      "source": [
        "For futher reading: \n",
        "https://machinelearningmastery.com/learning-curves-for-diagnosing-machine-learning-model-performance/"
      ],
      "metadata": {
        "id": "ppW-qimJ92dd"
      }
    }
  ]
}